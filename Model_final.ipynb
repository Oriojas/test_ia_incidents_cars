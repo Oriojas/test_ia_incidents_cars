{
 "cells": [
  {
   "cell_type": "code",
   "execution_count": 8,
   "id": "afec91e6",
   "metadata": {},
   "outputs": [],
   "source": [
    "import pandas as pd\n",
    "from joblib import dump\n",
    "from sklearn.metrics import f1_score\n",
    "from sklearn.metrics import recall_score\n",
    "from sklearn.metrics import accuracy_score\n",
    "from sklearn.metrics import precision_score\n",
    "from sklearn.linear_model import LogisticRegression\n",
    "from sklearn.model_selection import train_test_split\n",
    "from sklearn.model_selection import GridSearchCV, RepeatedKFold "
   ]
  },
  {
   "cell_type": "markdown",
   "id": "9ac5b3b2",
   "metadata": {},
   "source": [
    "## Mejora del modelo seleccionado regresión logística"
   ]
  },
  {
   "cell_type": "markdown",
   "id": "0668a115",
   "metadata": {},
   "source": [
    "En esta parte no se hará mucho énfasis en la preparación de los datos ya que en el notebook model_v1.ipynb se hace de manera mas detallada aquí la idea es mejorar le modelo escogido"
   ]
  },
  {
   "cell_type": "code",
   "execution_count": 3,
   "id": "04a143ca",
   "metadata": {},
   "outputs": [],
   "source": [
    "SEED = 137 # semilla aleatoria para la reproducibilidad del análisis"
   ]
  },
  {
   "cell_type": "code",
   "execution_count": 4,
   "id": "89da6ecd",
   "metadata": {},
   "outputs": [],
   "source": [
    "df = pd.read_csv(\"data/data_clean.csv\", index_col=0)"
   ]
  },
  {
   "cell_type": "code",
   "execution_count": 5,
   "id": "dc509d08",
   "metadata": {},
   "outputs": [],
   "source": [
    "df = df.drop(columns=[\"numero_aviso\", # esta variable solo indica el identificador incidente\n",
    "                      \"marca\", # esta variable tiene baja correlación y alta cardinalidad, es un identificador\n",
    "                      \"accion_modelo\", # variable que vien de un módelo anterior\n",
    "                      \"linea\", # es un identificador\n",
    "                      \"nombre\" # esta variable tien mucha correlación con el codigo iris\n",
    "                     ])"
   ]
  },
  {
   "cell_type": "code",
   "execution_count": 6,
   "id": "bb30d48b",
   "metadata": {},
   "outputs": [],
   "source": [
    "df[\"grupo\"] = df[\"grupo\"].astype(str)\n",
    "df[\"subgrupo\"] = df[\"subgrupo\"].astype(str)"
   ]
  },
  {
   "cell_type": "code",
   "execution_count": 7,
   "id": "cfd40b86",
   "metadata": {},
   "outputs": [],
   "source": [
    "y_temp = pd.get_dummies(df[\"accion\"])"
   ]
  },
  {
   "cell_type": "code",
   "execution_count": 9,
   "id": "f18a9284",
   "metadata": {},
   "outputs": [
    {
     "data": {
      "text/plain": [
       "array([1, 1, 1, ..., 1, 1, 0], dtype=uint8)"
      ]
     },
     "execution_count": 9,
     "metadata": {},
     "output_type": "execute_result"
    }
   ],
   "source": [
    "y = y_temp[\"cambiar\"].values\n",
    "y"
   ]
  },
  {
   "cell_type": "code",
   "execution_count": 10,
   "id": "73c4710f",
   "metadata": {},
   "outputs": [],
   "source": [
    "df = df.drop(columns=[\"accion\"]) # ahora esta variable es denominada y"
   ]
  },
  {
   "cell_type": "code",
   "execution_count": 11,
   "id": "466bfe5b",
   "metadata": {},
   "outputs": [],
   "source": [
    "df_model = pd.get_dummies(df)"
   ]
  },
  {
   "cell_type": "code",
   "execution_count": 12,
   "id": "1946b6fc",
   "metadata": {},
   "outputs": [],
   "source": [
    "X = df_model.values"
   ]
  },
  {
   "cell_type": "code",
   "execution_count": 13,
   "id": "4fe2a214",
   "metadata": {},
   "outputs": [],
   "source": [
    "X_train, X_test, y_train, y_test = train_test_split(X, y,\n",
    "                                                    test_size=0.2,\n",
    "                                                    random_state=SEED)"
   ]
  },
  {
   "cell_type": "markdown",
   "id": "cf6b026a",
   "metadata": {},
   "source": [
    "### Optimización de hiperparámetros con GridSearchCV"
   ]
  },
  {
   "cell_type": "code",
   "execution_count": 16,
   "id": "a2e44cbc",
   "metadata": {},
   "outputs": [],
   "source": [
    "lr_class = LogisticRegression(max_iter=500)\n",
    "grid = {'C':[0.5, 1, 1.5, 2, 2.5],\n",
    "        \"solver\": ['lbfgs', 'liblinear', 'newton-cg', 'newton-cholesky']}"
   ]
  },
  {
   "cell_type": "code",
   "execution_count": null,
   "id": "5e210688",
   "metadata": {},
   "outputs": [],
   "source": [
    "lr_class_grid = GridSearchCV(lr_class, # modelo\n",
    "                             grid, # grid\n",
    "                             n_jobs=8, # numéro de hilos\n",
    "                             cv=10 # validación cruzada iterativa)\n",
    "lr_class_grid_fit =  lr_class_grid.fit(X_train, y_train)\n",
    "\n",
    "pd.concat([pd.DataFrame(lr_class_grid_fit.cv_results_[\"params\"]),\n",
    "           pd.DataFrame(lr_class_grid_fit.cv_results_[\"mean_test_score\"], \n",
    "                        columns=[\"Accuracy\"])], axis=1)\n",
    "                             \n",
    "pd.DataFrame(rf_class_grid_fit.cv_results_[\"mean_test_score\"], \n",
    "                        columns=[\"Accuracy\"], axis=1)"
   ]
  },
  {
   "cell_type": "code",
   "execution_count": null,
   "id": "52591153",
   "metadata": {},
   "outputs": [],
   "source": [
    "# mejor modelo de los anteriores\n",
    "print(f'Best parameters: {lr_class_grid_fit.best_params_}')\n",
    "print(f'Best score: {lr_class_grid_fit.best_score_}')"
   ]
  },
  {
   "cell_type": "code",
   "execution_count": null,
   "id": "499ebfe8",
   "metadata": {},
   "outputs": [],
   "source": [
    "y_pred_lr_grid = lr_class_grid_fit.predict(X_test)\n",
    "\n",
    "print('##-- Random Forest Grid Search & CV --## ')\n",
    "print(f'Acuraccy: {accuracy_score(y_test, y_pred_lr_grid)}')\n",
    "print(f'Precision: {precision_score(y_test, y_pred_lr_grid, average=\"macro\")}')\n",
    "print(f'Recall: {recall_score(y_test, y_pred_lr_grid, average=\"macro\")}')\n",
    "print(confusion_matrix(y_test, y_pred_lr_grid))"
   ]
  },
  {
   "cell_type": "code",
   "execution_count": null,
   "id": "32f1ae55",
   "metadata": {},
   "outputs": [],
   "source": [
    "# guardar le modelo para poner en el demo\n",
    "dump(lr_class, 'model/lr_class.joblib') "
   ]
  },
  {
   "cell_type": "code",
   "execution_count": null,
   "id": "686db1a0",
   "metadata": {},
   "outputs": [],
   "source": []
  }
 ],
 "metadata": {
  "kernelspec": {
   "display_name": "Python 3 (ipykernel)",
   "language": "python",
   "name": "python3"
  },
  "language_info": {
   "codemirror_mode": {
    "name": "ipython",
    "version": 3
   },
   "file_extension": ".py",
   "mimetype": "text/x-python",
   "name": "python",
   "nbconvert_exporter": "python",
   "pygments_lexer": "ipython3",
   "version": "3.10.9"
  }
 },
 "nbformat": 4,
 "nbformat_minor": 5
}
