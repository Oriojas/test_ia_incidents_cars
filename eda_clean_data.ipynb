{
 "cells": [
  {
   "cell_type": "code",
   "execution_count": 80,
   "id": "fe1d7a2b",
   "metadata": {},
   "outputs": [],
   "source": [
    "%matplotlib inline\n",
    "import pandas as pd\n",
    "import matplotlib.pyplot as plt\n",
    "from ydata_profiling import ProfileReport"
   ]
  },
  {
   "cell_type": "markdown",
   "id": "ed7967f7",
   "metadata": {},
   "source": [
    "## Carga de datos en bruto"
   ]
  },
  {
   "cell_type": "code",
   "execution_count": 24,
   "id": "1a2c7893",
   "metadata": {},
   "outputs": [],
   "source": [
    "df = pd.read_csv(\"data/data.csv\")"
   ]
  },
  {
   "cell_type": "code",
   "execution_count": 8,
   "id": "fb90600f",
   "metadata": {},
   "outputs": [
    {
     "data": {
      "text/html": [
       "<div>\n",
       "<style scoped>\n",
       "    .dataframe tbody tr th:only-of-type {\n",
       "        vertical-align: middle;\n",
       "    }\n",
       "\n",
       "    .dataframe tbody tr th {\n",
       "        vertical-align: top;\n",
       "    }\n",
       "\n",
       "    .dataframe thead th {\n",
       "        text-align: right;\n",
       "    }\n",
       "</style>\n",
       "<table border=\"1\" class=\"dataframe\">\n",
       "  <thead>\n",
       "    <tr style=\"text-align: right;\">\n",
       "      <th></th>\n",
       "      <th>numero_aviso</th>\n",
       "      <th>marca</th>\n",
       "      <th>codigo_irs</th>\n",
       "      <th>nombre</th>\n",
       "      <th>accion</th>\n",
       "      <th>accion_modelo</th>\n",
       "      <th>marca.1</th>\n",
       "      <th>anio</th>\n",
       "      <th>linea</th>\n",
       "      <th>grupo</th>\n",
       "      <th>subgrupo</th>\n",
       "      <th>tipo_carroceria</th>\n",
       "    </tr>\n",
       "  </thead>\n",
       "  <tbody>\n",
       "    <tr>\n",
       "      <th>0</th>\n",
       "      <td>44023</td>\n",
       "      <td>HYUNDAI</td>\n",
       "      <td>03060003nndn</td>\n",
       "      <td>computadora</td>\n",
       "      <td>cambiar</td>\n",
       "      <td>cambiar</td>\n",
       "      <td>HYUNDAI</td>\n",
       "      <td>2012</td>\n",
       "      <td>accent</td>\n",
       "      <td>3</td>\n",
       "      <td>6</td>\n",
       "      <td>sedan</td>\n",
       "    </tr>\n",
       "    <tr>\n",
       "      <th>1</th>\n",
       "      <td>44023</td>\n",
       "      <td>HYUNDAI</td>\n",
       "      <td>03030005nndn</td>\n",
       "      <td>cable ground de bateria</td>\n",
       "      <td>cambiar</td>\n",
       "      <td>cambiar</td>\n",
       "      <td>HYUNDAI</td>\n",
       "      <td>2012</td>\n",
       "      <td>accent</td>\n",
       "      <td>3</td>\n",
       "      <td>3</td>\n",
       "      <td>sedan</td>\n",
       "    </tr>\n",
       "    <tr>\n",
       "      <th>2</th>\n",
       "      <td>17203</td>\n",
       "      <td>NISSAN</td>\n",
       "      <td>02090225nidn</td>\n",
       "      <td>pollera delantero izquierdo</td>\n",
       "      <td>cambiar</td>\n",
       "      <td>cambiar</td>\n",
       "      <td>NISSAN</td>\n",
       "      <td>2015</td>\n",
       "      <td>FRONTIER</td>\n",
       "      <td>2</td>\n",
       "      <td>9</td>\n",
       "      <td>pickup</td>\n",
       "    </tr>\n",
       "    <tr>\n",
       "      <th>3</th>\n",
       "      <td>37133</td>\n",
       "      <td>KIA</td>\n",
       "      <td>03040016nidn</td>\n",
       "      <td>lampara delantero izquierdo</td>\n",
       "      <td>cambiar</td>\n",
       "      <td>reparar</td>\n",
       "      <td>KIA</td>\n",
       "      <td>2018</td>\n",
       "      <td>rio</td>\n",
       "      <td>3</td>\n",
       "      <td>4</td>\n",
       "      <td>sedan</td>\n",
       "    </tr>\n",
       "    <tr>\n",
       "      <th>4</th>\n",
       "      <td>17434</td>\n",
       "      <td>HONDA</td>\n",
       "      <td>02090021nddn</td>\n",
       "      <td>bisagra derecho tapa motor</td>\n",
       "      <td>cambiar</td>\n",
       "      <td>cambiar</td>\n",
       "      <td>HONDA</td>\n",
       "      <td>2016</td>\n",
       "      <td>CRV</td>\n",
       "      <td>2</td>\n",
       "      <td>9</td>\n",
       "      <td>camioneta</td>\n",
       "    </tr>\n",
       "  </tbody>\n",
       "</table>\n",
       "</div>"
      ],
      "text/plain": [
       "   numero_aviso    marca    codigo_irs                       nombre   accion  \\\n",
       "0         44023  HYUNDAI  03060003nndn                  computadora  cambiar   \n",
       "1         44023  HYUNDAI  03030005nndn      cable ground de bateria  cambiar   \n",
       "2         17203   NISSAN  02090225nidn  pollera delantero izquierdo  cambiar   \n",
       "3         37133      KIA  03040016nidn  lampara delantero izquierdo  cambiar   \n",
       "4         17434    HONDA  02090021nddn   bisagra derecho tapa motor  cambiar   \n",
       "\n",
       "  accion_modelo  marca.1  anio     linea  grupo  subgrupo tipo_carroceria  \n",
       "0       cambiar  HYUNDAI  2012    accent      3         6           sedan  \n",
       "1       cambiar  HYUNDAI  2012    accent      3         3           sedan  \n",
       "2       cambiar   NISSAN  2015  FRONTIER      2         9          pickup  \n",
       "3       reparar      KIA  2018       rio      3         4           sedan  \n",
       "4       cambiar    HONDA  2016       CRV      2         9       camioneta  "
      ]
     },
     "execution_count": 8,
     "metadata": {},
     "output_type": "execute_result"
    }
   ],
   "source": [
    "df.head()"
   ]
  },
  {
   "cell_type": "code",
   "execution_count": 7,
   "id": "67cd30b6",
   "metadata": {},
   "outputs": [
    {
     "name": "stdout",
     "output_type": "stream",
     "text": [
      "Cantidad de variables 12, cantidad de observaciones 103032\n"
     ]
    }
   ],
   "source": [
    "print(f\"Cantidad de variables {len(df.columns)}, cantidad de observaciones {len(df)}\")"
   ]
  },
  {
   "cell_type": "code",
   "execution_count": 9,
   "id": "2ead244e",
   "metadata": {},
   "outputs": [
    {
     "data": {
      "application/vnd.jupyter.widget-view+json": {
       "model_id": "153b31feff144cc3b766748b8e0c79b6",
       "version_major": 2,
       "version_minor": 0
      },
      "text/plain": [
       "Summarize dataset:   0%|          | 0/5 [00:00<?, ?it/s]"
      ]
     },
     "metadata": {},
     "output_type": "display_data"
    },
    {
     "data": {
      "application/vnd.jupyter.widget-view+json": {
       "model_id": "b2bbe3bf4e754b899dbcf48599d9b44b",
       "version_major": 2,
       "version_minor": 0
      },
      "text/plain": [
       "Generate report structure:   0%|          | 0/1 [00:00<?, ?it/s]"
      ]
     },
     "metadata": {},
     "output_type": "display_data"
    },
    {
     "data": {
      "application/vnd.jupyter.widget-view+json": {
       "model_id": "d77168d314634ee5ba8acbed1f8e4e50",
       "version_major": 2,
       "version_minor": 0
      },
      "text/plain": [
       "Render HTML:   0%|          | 0/1 [00:00<?, ?it/s]"
      ]
     },
     "metadata": {},
     "output_type": "display_data"
    },
    {
     "data": {
      "application/vnd.jupyter.widget-view+json": {
       "model_id": "5463766c102c4db8a603b9c218e5899c",
       "version_major": 2,
       "version_minor": 0
      },
      "text/plain": [
       "Export report to file:   0%|          | 0/1 [00:00<?, ?it/s]"
      ]
     },
     "metadata": {},
     "output_type": "display_data"
    }
   ],
   "source": [
    "profile = ProfileReport(df, minimal=False)\n",
    "profile.to_file(\"eda_files/output_initial.html\")"
   ]
  },
  {
   "cell_type": "markdown",
   "id": "1f97e30a",
   "metadata": {},
   "source": [
    "## Procesado de datos según recomendaciones EDA inicial"
   ]
  },
  {
   "cell_type": "markdown",
   "id": "86dbe4f4",
   "metadata": {},
   "source": [
    "En esta etapa se analizaran las variables en función de las recomendaciones del EDA, esto con el fin de tener los datos refinados para modelaros posteriormente, **el análisis preliminar se encuentra** como un pagina web en la la ubicación: **eda_files/output_initial.htm**"
   ]
  },
  {
   "cell_type": "markdown",
   "id": "f7a98743",
   "metadata": {},
   "source": [
    "### Filas repetidas (Descartado)"
   ]
  },
  {
   "cell_type": "markdown",
   "id": "e09c9d94",
   "metadata": {},
   "source": [
    "**Nota:** Se descarta esta acción dado que al no tener un identificador de fecha podría ser un vehículo igual con un cambio de partes similar, pero se deja el código en caso de enriquecer la información en un futuro\n",
    "\n",
    "*Para este caso se tiene 122 filas duplicadas que corresponden al 0.1% del total de los datos aunque no es significativo el borrarlas no lleva un mayo esfuerzo y se proceden a eliminar*"
   ]
  },
  {
   "cell_type": "code",
   "execution_count": 17,
   "id": "633fa067",
   "metadata": {},
   "outputs": [
    {
     "data": {
      "text/plain": [
       "103032"
      ]
     },
     "execution_count": 17,
     "metadata": {},
     "output_type": "execute_result"
    }
   ],
   "source": [
    "len(df)"
   ]
  },
  {
   "cell_type": "raw",
   "id": "732bf2d5",
   "metadata": {},
   "source": [
    "df = df.drop_duplicates()"
   ]
  },
  {
   "cell_type": "code",
   "execution_count": 18,
   "id": "78f14113",
   "metadata": {},
   "outputs": [
    {
     "data": {
      "text/plain": [
       "103032"
      ]
     },
     "execution_count": 18,
     "metadata": {},
     "output_type": "execute_result"
    }
   ],
   "source": [
    "len(df)"
   ]
  },
  {
   "cell_type": "markdown",
   "id": "556c69da",
   "metadata": {},
   "source": [
    "### Variable numero_aviso"
   ]
  },
  {
   "cell_type": "markdown",
   "id": "f25d37ba",
   "metadata": {},
   "source": [
    "**Numero de aviso:** es un idenficador único que agrupa un siniestro, bajo este ID se puede agrupar las distintas piezas de un siniestro.\n",
    "\n",
    "**Nota:** Esta variable se esta tomando como tipo numero cuando en realidad es una categoría por esta razón se procede a transformar para poder utilizar de manera mas eficiente en las agrupaciones y en los modelos si se ve su utilidad tratarla como tal"
   ]
  },
  {
   "cell_type": "code",
   "execution_count": 25,
   "id": "d73a66fe",
   "metadata": {},
   "outputs": [
    {
     "data": {
      "text/plain": [
       "count    103032.000000\n",
       "mean      44333.365479\n",
       "std       16371.133507\n",
       "min        8437.000000\n",
       "25%       29917.000000\n",
       "50%       47329.000000\n",
       "75%       58702.000000\n",
       "max       67229.000000\n",
       "Name: numero_aviso, dtype: float64"
      ]
     },
     "execution_count": 25,
     "metadata": {},
     "output_type": "execute_result"
    }
   ],
   "source": [
    "df[\"numero_aviso\"].describe()"
   ]
  },
  {
   "cell_type": "code",
   "execution_count": 26,
   "id": "12ab34f8",
   "metadata": {},
   "outputs": [],
   "source": [
    "df[\"numero_aviso\"] = df[\"numero_aviso\"].astype(str)"
   ]
  },
  {
   "cell_type": "code",
   "execution_count": 27,
   "id": "d2fe8e4d",
   "metadata": {},
   "outputs": [
    {
     "data": {
      "text/plain": [
       "count     103032\n",
       "unique      8708\n",
       "top        50067\n",
       "freq         111\n",
       "Name: numero_aviso, dtype: object"
      ]
     },
     "execution_count": 27,
     "metadata": {},
     "output_type": "execute_result"
    }
   ],
   "source": [
    "df[\"numero_aviso\"].describe()"
   ]
  },
  {
   "cell_type": "markdown",
   "id": "fbe0e6d4",
   "metadata": {},
   "source": [
    "Se puede observar que se están analizando 8708 eventos"
   ]
  },
  {
   "cell_type": "markdown",
   "id": "43102e66",
   "metadata": {},
   "source": [
    "### Variable Código irs"
   ]
  },
  {
   "cell_type": "markdown",
   "id": "48135399",
   "metadata": {},
   "source": [
    "**Código irs:** Es un identificador único de cada pieza. Puede que una pieza tenga diferentes nombres (bómper delantero o defensa delantero, bómper del., etc.), pero el código irs será único."
   ]
  },
  {
   "cell_type": "code",
   "execution_count": 57,
   "id": "879b4713",
   "metadata": {},
   "outputs": [],
   "source": [
    "df_irs = df.groupby([\"codigo_irs\", \"nombre\"], as_index=False).count()"
   ]
  },
  {
   "cell_type": "code",
   "execution_count": 58,
   "id": "133bdb3b",
   "metadata": {},
   "outputs": [],
   "source": [
    "df_irs = df_irs[[\"codigo_irs\", \"numero_aviso\", \"nombre\"]]\n",
    "df_irs = df_irs.rename(columns={\"numero_aviso\": \"count\"})\n",
    "df_irs = df_irs.sort_values(\"count\", ascending=False)\n",
    "df_irs = df_irs[0:12].reset_index(drop=True)"
   ]
  },
  {
   "cell_type": "code",
   "execution_count": 60,
   "id": "e1c93d3e",
   "metadata": {},
   "outputs": [
    {
     "data": {
      "text/html": [
       "<div>\n",
       "<style scoped>\n",
       "    .dataframe tbody tr th:only-of-type {\n",
       "        vertical-align: middle;\n",
       "    }\n",
       "\n",
       "    .dataframe tbody tr th {\n",
       "        vertical-align: top;\n",
       "    }\n",
       "\n",
       "    .dataframe thead th {\n",
       "        text-align: right;\n",
       "    }\n",
       "</style>\n",
       "<table border=\"1\" class=\"dataframe\">\n",
       "  <thead>\n",
       "    <tr style=\"text-align: right;\">\n",
       "      <th></th>\n",
       "      <th>codigo_irs</th>\n",
       "      <th>count</th>\n",
       "      <th>nombre</th>\n",
       "    </tr>\n",
       "  </thead>\n",
       "  <tbody>\n",
       "    <tr>\n",
       "      <th>0</th>\n",
       "      <td>02090112nndn</td>\n",
       "      <td>3134</td>\n",
       "      <td>defensa delantero</td>\n",
       "    </tr>\n",
       "    <tr>\n",
       "      <th>1</th>\n",
       "      <td>02090113nntn</td>\n",
       "      <td>2194</td>\n",
       "      <td>defensa trasero</td>\n",
       "    </tr>\n",
       "    <tr>\n",
       "      <th>2</th>\n",
       "      <td>02090066nddn</td>\n",
       "      <td>2145</td>\n",
       "      <td>guardafango derecho</td>\n",
       "    </tr>\n",
       "    <tr>\n",
       "      <th>3</th>\n",
       "      <td>02090200nndn</td>\n",
       "      <td>2111</td>\n",
       "      <td>tapa motor</td>\n",
       "    </tr>\n",
       "    <tr>\n",
       "      <th>4</th>\n",
       "      <td>02090067nidn</td>\n",
       "      <td>2077</td>\n",
       "      <td>guardafango izquierdo</td>\n",
       "    </tr>\n",
       "    <tr>\n",
       "      <th>5</th>\n",
       "      <td>02090129nndn</td>\n",
       "      <td>1449</td>\n",
       "      <td>parrilla</td>\n",
       "    </tr>\n",
       "    <tr>\n",
       "      <th>6</th>\n",
       "      <td>02090143nddn</td>\n",
       "      <td>1416</td>\n",
       "      <td>puerta delantero derecho</td>\n",
       "    </tr>\n",
       "    <tr>\n",
       "      <th>7</th>\n",
       "      <td>03040015nddn</td>\n",
       "      <td>1399</td>\n",
       "      <td>lampara delantero derecho</td>\n",
       "    </tr>\n",
       "    <tr>\n",
       "      <th>8</th>\n",
       "      <td>03040016nidn</td>\n",
       "      <td>1369</td>\n",
       "      <td>lampara delantero izquierdo</td>\n",
       "    </tr>\n",
       "    <tr>\n",
       "      <th>9</th>\n",
       "      <td>02090144nidn</td>\n",
       "      <td>1347</td>\n",
       "      <td>puerta delantero izquierdo</td>\n",
       "    </tr>\n",
       "    <tr>\n",
       "      <th>10</th>\n",
       "      <td>02090049ndtn</td>\n",
       "      <td>1344</td>\n",
       "      <td>guardafango trasero derecho</td>\n",
       "    </tr>\n",
       "    <tr>\n",
       "      <th>11</th>\n",
       "      <td>02090050nitn</td>\n",
       "      <td>1305</td>\n",
       "      <td>guardafango trasero izquierdo</td>\n",
       "    </tr>\n",
       "  </tbody>\n",
       "</table>\n",
       "</div>"
      ],
      "text/plain": [
       "      codigo_irs  count                         nombre\n",
       "0   02090112nndn   3134              defensa delantero\n",
       "1   02090113nntn   2194                defensa trasero\n",
       "2   02090066nddn   2145            guardafango derecho\n",
       "3   02090200nndn   2111                     tapa motor\n",
       "4   02090067nidn   2077          guardafango izquierdo\n",
       "5   02090129nndn   1449                       parrilla\n",
       "6   02090143nddn   1416       puerta delantero derecho\n",
       "7   03040015nddn   1399      lampara delantero derecho\n",
       "8   03040016nidn   1369    lampara delantero izquierdo\n",
       "9   02090144nidn   1347     puerta delantero izquierdo\n",
       "10  02090049ndtn   1344    guardafango trasero derecho\n",
       "11  02090050nitn   1305  guardafango trasero izquierdo"
      ]
     },
     "execution_count": 60,
     "metadata": {},
     "output_type": "execute_result"
    }
   ],
   "source": [
    "df_irs"
   ]
  },
  {
   "cell_type": "code",
   "execution_count": 55,
   "id": "f722de35",
   "metadata": {},
   "outputs": [
    {
     "data": {
      "image/png": "[encoded data removed]",
      "text/plain": [
       "<Figure size 640x480 with 1 Axes>"
      ]
     },
     "metadata": {},
     "output_type": "display_data"
    }
   ],
   "source": [
    "plt.Figure(figsize=(8, 6))\n",
    "plt.barh(df_irs[\"codigo_irs\"], df_irs[\"count\"])\n",
    "plt.title(\"Top 12 de las piezas con codigo IRS mas utilizadas\")\n",
    "plt.show()"
   ]
  },
  {
   "cell_type": "markdown",
   "id": "6f5d0ba4",
   "metadata": {},
   "source": [
    "Esta variable no tiene problemas salvo una alta cardinalidad es decir muchas categorías, para este caso 1665 valores distintos, pero el top 12 de códigos mas presentes en la base de datos da una idea mas clara de la información"
   ]
  },
  {
   "cell_type": "markdown",
   "id": "b1f1bd8e",
   "metadata": {},
   "source": [
    "### Variable nombre"
   ]
  },
  {
   "cell_type": "markdown",
   "id": "e190b058",
   "metadata": {},
   "source": [
    "**nombre:** nombre de la pieza.\n",
    "\n",
    "Esta variable no tiene mayor complicación salvo sus valores únicos ya que son 1741 vs 1665 del código irs es decir que pueden haber código irs repetidos con distinto nombre cosa que ya se mencionaba en el diccionario de variables"
   ]
  },
  {
   "cell_type": "markdown",
   "id": "2c292295",
   "metadata": {},
   "source": [
    "### Variable acción"
   ]
  },
  {
   "cell_type": "markdown",
   "id": "1a8f64f2",
   "metadata": {},
   "source": [
    "**Acción:** Es la acción que finalmente se llevó a cabo sobre la pieza (target).\n",
    "\n",
    "Esta variable siendo el objetivo del análisis no tiene valores NA y fácil determinar su frecuencia "
   ]
  },
  {
   "cell_type": "code",
   "execution_count": 66,
   "id": "561e7bce",
   "metadata": {},
   "outputs": [
    {
     "data": {
      "text/plain": [
       "cambiar    75598\n",
       "reparar    27434\n",
       "Name: accion, dtype: int64"
      ]
     },
     "execution_count": 66,
     "metadata": {},
     "output_type": "execute_result"
    }
   ],
   "source": [
    "df[\"accion\"].value_counts()"
   ]
  },
  {
   "cell_type": "code",
   "execution_count": 61,
   "id": "e9769c78",
   "metadata": {},
   "outputs": [
    {
     "data": {
      "image/png": "[encoded data removed]",
      "text/plain": [
       "<Figure size 640x480 with 1 Axes>"
      ]
     },
     "metadata": {},
     "output_type": "display_data"
    }
   ],
   "source": [
    "plt.Figure(figsize=(8, 6))\n",
    "plt.hist(df[\"accion\"])\n",
    "plt.title(\"Frecuencia de la acción a realizar\")\n",
    "plt.show()"
   ]
  },
  {
   "cell_type": "markdown",
   "id": "89ea6f39",
   "metadata": {},
   "source": [
    "Se puede observar des balanceo en los datos caso que se debe tener en cuenta a la hora de plantear un modelo"
   ]
  },
  {
   "cell_type": "markdown",
   "id": "17471eac",
   "metadata": {},
   "source": [
    "### Acción módelo"
   ]
  },
  {
   "cell_type": "markdown",
   "id": "d0823053",
   "metadata": {},
   "source": [
    "**acción_modelo:** es la acción sugerida por el modelo actualmente desplegado\n",
    "en producción.\n",
    "\n",
    "Variable interesante para poder comparar"
   ]
  },
  {
   "cell_type": "code",
   "execution_count": 65,
   "id": "ec2cb162",
   "metadata": {},
   "outputs": [
    {
     "data": {
      "text/plain": [
       "cambiar    67025\n",
       "reparar    36007\n",
       "Name: accion_modelo, dtype: int64"
      ]
     },
     "execution_count": 65,
     "metadata": {},
     "output_type": "execute_result"
    }
   ],
   "source": [
    "df[\"accion_modelo\"].value_counts()"
   ]
  },
  {
   "cell_type": "code",
   "execution_count": null,
   "id": "2ef078fd",
   "metadata": {},
   "outputs": [],
   "source": []
  },
  {
   "cell_type": "code",
   "execution_count": 62,
   "id": "fd50a9e9",
   "metadata": {},
   "outputs": [
    {
     "data": {
      "image/png": "[encoded data removed]",
      "text/plain": [
       "<Figure size 640x480 with 1 Axes>"
      ]
     },
     "metadata": {},
     "output_type": "display_data"
    }
   ],
   "source": [
    "plt.Figure(figsize=(8, 6))\n",
    "plt.hist(df[\"accion_modelo\"])\n",
    "plt.title(\"Frecuencia de la acción a realizar (módelo)\")\n",
    "plt.show()"
   ]
  },
  {
   "cell_type": "code",
   "execution_count": 76,
   "id": "d7328ae2",
   "metadata": {},
   "outputs": [
    {
     "data": {
      "text/html": [
       "<div>\n",
       "<style scoped>\n",
       "    .dataframe tbody tr th:only-of-type {\n",
       "        vertical-align: middle;\n",
       "    }\n",
       "\n",
       "    .dataframe tbody tr th {\n",
       "        vertical-align: top;\n",
       "    }\n",
       "\n",
       "    .dataframe thead th {\n",
       "        text-align: right;\n",
       "    }\n",
       "</style>\n",
       "<table border=\"1\" class=\"dataframe\">\n",
       "  <thead>\n",
       "    <tr style=\"text-align: right;\">\n",
       "      <th></th>\n",
       "      <th>accion</th>\n",
       "    </tr>\n",
       "  </thead>\n",
       "  <tbody>\n",
       "    <tr>\n",
       "      <th>cambiar</th>\n",
       "      <td>75598</td>\n",
       "    </tr>\n",
       "    <tr>\n",
       "      <th>reparar</th>\n",
       "      <td>27434</td>\n",
       "    </tr>\n",
       "  </tbody>\n",
       "</table>\n",
       "</div>"
      ],
      "text/plain": [
       "         accion\n",
       "cambiar   75598\n",
       "reparar   27434"
      ]
     },
     "execution_count": 76,
     "metadata": {},
     "output_type": "execute_result"
    }
   ],
   "source": [
    "df_accion = pd.DataFrame(df[\"accion\"].value_counts())\n",
    "df_accion"
   ]
  },
  {
   "cell_type": "code",
   "execution_count": 77,
   "id": "714b3f69",
   "metadata": {},
   "outputs": [
    {
     "data": {
      "text/html": [
       "<div>\n",
       "<style scoped>\n",
       "    .dataframe tbody tr th:only-of-type {\n",
       "        vertical-align: middle;\n",
       "    }\n",
       "\n",
       "    .dataframe tbody tr th {\n",
       "        vertical-align: top;\n",
       "    }\n",
       "\n",
       "    .dataframe thead th {\n",
       "        text-align: right;\n",
       "    }\n",
       "</style>\n",
       "<table border=\"1\" class=\"dataframe\">\n",
       "  <thead>\n",
       "    <tr style=\"text-align: right;\">\n",
       "      <th></th>\n",
       "      <th>accion_modelo</th>\n",
       "    </tr>\n",
       "  </thead>\n",
       "  <tbody>\n",
       "    <tr>\n",
       "      <th>cambiar</th>\n",
       "      <td>67025</td>\n",
       "    </tr>\n",
       "    <tr>\n",
       "      <th>reparar</th>\n",
       "      <td>36007</td>\n",
       "    </tr>\n",
       "  </tbody>\n",
       "</table>\n",
       "</div>"
      ],
      "text/plain": [
       "         accion_modelo\n",
       "cambiar          67025\n",
       "reparar          36007"
      ]
     },
     "execution_count": 77,
     "metadata": {},
     "output_type": "execute_result"
    }
   ],
   "source": [
    "df_accion_modelo = pd.DataFrame(df[\"accion_modelo\"].value_counts())\n",
    "df_accion_modelo"
   ]
  },
  {
   "cell_type": "code",
   "execution_count": 81,
   "id": "96d84241",
   "metadata": {},
   "outputs": [
    {
     "data": {
      "text/html": [
       "<div>\n",
       "<style scoped>\n",
       "    .dataframe tbody tr th:only-of-type {\n",
       "        vertical-align: middle;\n",
       "    }\n",
       "\n",
       "    .dataframe tbody tr th {\n",
       "        vertical-align: top;\n",
       "    }\n",
       "\n",
       "    .dataframe thead th {\n",
       "        text-align: right;\n",
       "    }\n",
       "</style>\n",
       "<table border=\"1\" class=\"dataframe\">\n",
       "  <thead>\n",
       "    <tr style=\"text-align: right;\">\n",
       "      <th></th>\n",
       "      <th>accion</th>\n",
       "      <th>accion_modelo</th>\n",
       "    </tr>\n",
       "  </thead>\n",
       "  <tbody>\n",
       "    <tr>\n",
       "      <th>cambiar</th>\n",
       "      <td>75598</td>\n",
       "      <td>67025</td>\n",
       "    </tr>\n",
       "    <tr>\n",
       "      <th>reparar</th>\n",
       "      <td>27434</td>\n",
       "      <td>36007</td>\n",
       "    </tr>\n",
       "  </tbody>\n",
       "</table>\n",
       "</div>"
      ],
      "text/plain": [
       "         accion  accion_modelo\n",
       "cambiar   75598          67025\n",
       "reparar   27434          36007"
      ]
     },
     "execution_count": 81,
     "metadata": {},
     "output_type": "execute_result"
    }
   ],
   "source": [
    "df_model_init = pd.concat([df_accion, df_accion_modelo], axis=1)\n",
    "df_model_init"
   ]
  },
  {
   "cell_type": "code",
   "execution_count": 99,
   "id": "b5543ffe",
   "metadata": {},
   "outputs": [
    {
     "data": {
      "text/plain": [
       "0.12790749720253647"
      ]
     },
     "execution_count": 99,
     "metadata": {},
     "output_type": "execute_result"
    }
   ],
   "source": [
    "cambiar_dif =  (df_model_init[\"accion\"][0] / df_model_init[\"accion_modelo\"][0] - 1)\n",
    "cambiar_dif "
   ]
  },
  {
   "cell_type": "code",
   "execution_count": 102,
   "id": "34bba5c6",
   "metadata": {},
   "outputs": [
    {
     "data": {
      "text/plain": [
       "0.2380925931068959"
      ]
     },
     "execution_count": 102,
     "metadata": {},
     "output_type": "execute_result"
    }
   ],
   "source": [
    "reparar_dif =  (1 - df_model_init[\"accion\"][1] / df_model_init[\"accion_modelo\"][1])\n",
    "reparar_dif "
   ]
  },
  {
   "cell_type": "markdown",
   "id": "d75e5156",
   "metadata": {},
   "source": [
    "Se puede observar como el modelo utilizado es menos efectivo en el caso de reparar piezas puede ser por el des balanceo de los datos, esta información es útil para el planteamiento del modelo"
   ]
  },
  {
   "cell_type": "code",
   "execution_count": null,
   "id": "5b734ffa",
   "metadata": {},
   "outputs": [],
   "source": []
  },
  {
   "cell_type": "code",
   "execution_count": null,
   "id": "8f9d47e4",
   "metadata": {},
   "outputs": [],
   "source": []
  },
  {
   "cell_type": "code",
   "execution_count": null,
   "id": "1df76217",
   "metadata": {},
   "outputs": [],
   "source": []
  },
  {
   "cell_type": "code",
   "execution_count": null,
   "id": "718d1d3e",
   "metadata": {},
   "outputs": [],
   "source": []
  }
 ],
 "metadata": {
  "kernelspec": {
   "display_name": "Python 3 (ipykernel)",
   "language": "python",
   "name": "python3"
  },
  "language_info": {
   "codemirror_mode": {
    "name": "ipython",
    "version": 3
   },
   "file_extension": ".py",
   "mimetype": "text/x-python",
   "name": "python",
   "nbconvert_exporter": "python",
   "pygments_lexer": "ipython3",
   "version": "3.10.9"
  }
 },
 "nbformat": 4,
 "nbformat_minor": 5
}
