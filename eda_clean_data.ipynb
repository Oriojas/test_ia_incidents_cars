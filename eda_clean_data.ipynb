{
 "cells": [
  {
   "cell_type": "code",
   "execution_count": 1,
   "id": "fe1d7a2b",
   "metadata": {},
   "outputs": [],
   "source": [
    "%matplotlib inline\n",
    "import pandas as pd\n",
    "import seaborn as sns\n",
    "from copy import deepcopy\n",
    "import matplotlib.pyplot as plt\n",
    "from ydata_profiling import ProfileReport\n",
    "pd.set_option('mode.chained_assignment', None)"
   ]
  },
  {
   "cell_type": "markdown",
   "id": "ed7967f7",
   "metadata": {},
   "source": [
    "## Carga de datos en bruto"
   ]
  },
  {
   "cell_type": "code",
   "execution_count": 77,
   "id": "1a2c7893",
   "metadata": {},
   "outputs": [],
   "source": [
    "df = pd.read_csv(\"data/data.csv\")"
   ]
  },
  {
   "cell_type": "code",
   "execution_count": 80,
   "id": "b15172cb",
   "metadata": {},
   "outputs": [],
   "source": [
    "# ejemplo de datos para probar le front\n",
    "df_sample = df.sample(n=50)\n",
    "df_sample = df_sample.reset_index(drop=True)\n",
    "df_sample = df_sample.drop(columns=[\"accion\", \"accion_modelo\"])\n",
    "df_sample.to_csv(\"data/data_sample_front.csv\")"
   ]
  },
  {
   "cell_type": "code",
   "execution_count": 3,
   "id": "fb90600f",
   "metadata": {},
   "outputs": [
    {
     "data": {
      "text/html": [
       "<div>\n",
       "<style scoped>\n",
       "    .dataframe tbody tr th:only-of-type {\n",
       "        vertical-align: middle;\n",
       "    }\n",
       "\n",
       "    .dataframe tbody tr th {\n",
       "        vertical-align: top;\n",
       "    }\n",
       "\n",
       "    .dataframe thead th {\n",
       "        text-align: right;\n",
       "    }\n",
       "</style>\n",
       "<table border=\"1\" class=\"dataframe\">\n",
       "  <thead>\n",
       "    <tr style=\"text-align: right;\">\n",
       "      <th></th>\n",
       "      <th>numero_aviso</th>\n",
       "      <th>marca</th>\n",
       "      <th>codigo_irs</th>\n",
       "      <th>nombre</th>\n",
       "      <th>accion</th>\n",
       "      <th>accion_modelo</th>\n",
       "      <th>marca.1</th>\n",
       "      <th>anio</th>\n",
       "      <th>linea</th>\n",
       "      <th>grupo</th>\n",
       "      <th>subgrupo</th>\n",
       "      <th>tipo_carroceria</th>\n",
       "    </tr>\n",
       "  </thead>\n",
       "  <tbody>\n",
       "    <tr>\n",
       "      <th>0</th>\n",
       "      <td>44023</td>\n",
       "      <td>HYUNDAI</td>\n",
       "      <td>03060003nndn</td>\n",
       "      <td>computadora</td>\n",
       "      <td>cambiar</td>\n",
       "      <td>cambiar</td>\n",
       "      <td>HYUNDAI</td>\n",
       "      <td>2012</td>\n",
       "      <td>accent</td>\n",
       "      <td>3</td>\n",
       "      <td>6</td>\n",
       "      <td>sedan</td>\n",
       "    </tr>\n",
       "    <tr>\n",
       "      <th>1</th>\n",
       "      <td>44023</td>\n",
       "      <td>HYUNDAI</td>\n",
       "      <td>03030005nndn</td>\n",
       "      <td>cable ground de bateria</td>\n",
       "      <td>cambiar</td>\n",
       "      <td>cambiar</td>\n",
       "      <td>HYUNDAI</td>\n",
       "      <td>2012</td>\n",
       "      <td>accent</td>\n",
       "      <td>3</td>\n",
       "      <td>3</td>\n",
       "      <td>sedan</td>\n",
       "    </tr>\n",
       "    <tr>\n",
       "      <th>2</th>\n",
       "      <td>17203</td>\n",
       "      <td>NISSAN</td>\n",
       "      <td>02090225nidn</td>\n",
       "      <td>pollera delantero izquierdo</td>\n",
       "      <td>cambiar</td>\n",
       "      <td>cambiar</td>\n",
       "      <td>NISSAN</td>\n",
       "      <td>2015</td>\n",
       "      <td>FRONTIER</td>\n",
       "      <td>2</td>\n",
       "      <td>9</td>\n",
       "      <td>pickup</td>\n",
       "    </tr>\n",
       "    <tr>\n",
       "      <th>3</th>\n",
       "      <td>37133</td>\n",
       "      <td>KIA</td>\n",
       "      <td>03040016nidn</td>\n",
       "      <td>lampara delantero izquierdo</td>\n",
       "      <td>cambiar</td>\n",
       "      <td>reparar</td>\n",
       "      <td>KIA</td>\n",
       "      <td>2018</td>\n",
       "      <td>rio</td>\n",
       "      <td>3</td>\n",
       "      <td>4</td>\n",
       "      <td>sedan</td>\n",
       "    </tr>\n",
       "    <tr>\n",
       "      <th>4</th>\n",
       "      <td>17434</td>\n",
       "      <td>HONDA</td>\n",
       "      <td>02090021nddn</td>\n",
       "      <td>bisagra derecho tapa motor</td>\n",
       "      <td>cambiar</td>\n",
       "      <td>cambiar</td>\n",
       "      <td>HONDA</td>\n",
       "      <td>2016</td>\n",
       "      <td>CRV</td>\n",
       "      <td>2</td>\n",
       "      <td>9</td>\n",
       "      <td>camioneta</td>\n",
       "    </tr>\n",
       "  </tbody>\n",
       "</table>\n",
       "</div>"
      ],
      "text/plain": [
       "   numero_aviso    marca    codigo_irs                       nombre   accion  \\\n",
       "0         44023  HYUNDAI  03060003nndn                  computadora  cambiar   \n",
       "1         44023  HYUNDAI  03030005nndn      cable ground de bateria  cambiar   \n",
       "2         17203   NISSAN  02090225nidn  pollera delantero izquierdo  cambiar   \n",
       "3         37133      KIA  03040016nidn  lampara delantero izquierdo  cambiar   \n",
       "4         17434    HONDA  02090021nddn   bisagra derecho tapa motor  cambiar   \n",
       "\n",
       "  accion_modelo  marca.1  anio     linea  grupo  subgrupo tipo_carroceria  \n",
       "0       cambiar  HYUNDAI  2012    accent      3         6           sedan  \n",
       "1       cambiar  HYUNDAI  2012    accent      3         3           sedan  \n",
       "2       cambiar   NISSAN  2015  FRONTIER      2         9          pickup  \n",
       "3       reparar      KIA  2018       rio      3         4           sedan  \n",
       "4       cambiar    HONDA  2016       CRV      2         9       camioneta  "
      ]
     },
     "execution_count": 3,
     "metadata": {},
     "output_type": "execute_result"
    }
   ],
   "source": [
    "df.head()"
   ]
  },
  {
   "cell_type": "code",
   "execution_count": 4,
   "id": "67cd30b6",
   "metadata": {},
   "outputs": [
    {
     "name": "stdout",
     "output_type": "stream",
     "text": [
      "Cantidad de variables 12, cantidad de observaciones 103032\n"
     ]
    }
   ],
   "source": [
    "print(f\"Cantidad de variables {len(df.columns)}, cantidad de observaciones {len(df)}\")"
   ]
  },
  {
   "cell_type": "code",
   "execution_count": 5,
   "id": "2ead244e",
   "metadata": {},
   "outputs": [
    {
     "data": {
      "application/vnd.jupyter.widget-view+json": {
       "model_id": "21ff0a0b1f7e49dba1a4e4b94ef02801",
       "version_major": 2,
       "version_minor": 0
      },
      "text/plain": [
       "Summarize dataset:   0%|          | 0/5 [00:00<?, ?it/s]"
      ]
     },
     "metadata": {},
     "output_type": "display_data"
    },
    {
     "data": {
      "application/vnd.jupyter.widget-view+json": {
       "model_id": "08a0f7da81124f6593484d00604f1cac",
       "version_major": 2,
       "version_minor": 0
      },
      "text/plain": [
       "Generate report structure:   0%|          | 0/1 [00:00<?, ?it/s]"
      ]
     },
     "metadata": {},
     "output_type": "display_data"
    },
    {
     "data": {
      "application/vnd.jupyter.widget-view+json": {
       "model_id": "50f732de0bbf4dd3b9a047cf8eedca14",
       "version_major": 2,
       "version_minor": 0
      },
      "text/plain": [
       "Render HTML:   0%|          | 0/1 [00:00<?, ?it/s]"
      ]
     },
     "metadata": {},
     "output_type": "display_data"
    },
    {
     "data": {
      "application/vnd.jupyter.widget-view+json": {
       "model_id": "5512eaef90d94ebf8f7c044798f00203",
       "version_major": 2,
       "version_minor": 0
      },
      "text/plain": [
       "Export report to file:   0%|          | 0/1 [00:00<?, ?it/s]"
      ]
     },
     "metadata": {},
     "output_type": "display_data"
    }
   ],
   "source": [
    "profile = ProfileReport(df, minimal=False)\n",
    "profile.to_file(\"eda_files/output_initial.html\")"
   ]
  },
  {
   "cell_type": "markdown",
   "id": "1f97e30a",
   "metadata": {},
   "source": [
    "## Procesado de datos según recomendaciones EDA inicial"
   ]
  },
  {
   "cell_type": "markdown",
   "id": "86dbe4f4",
   "metadata": {},
   "source": [
    "En esta etapa se analizaran las variables en función de las recomendaciones del EDA, esto con el fin de tener los datos refinados para modelaros posteriormente, **el análisis preliminar se encuentra** como un pagina web en la la ubicación: **eda_files/output_initial.htm**, este archivo tiene de manera grafica la siguiente información:\n",
    "\n",
    "* Descripción general de las variables\n",
    "* Descripción detallada de las variables\n",
    "* Matriz de interacciones\n",
    "* Matriz de correlación (**punto solicitado en el documento del análisis**)\n",
    "* Recomendaciones del estado de las variables\n",
    "* Información estadística de cada variable"
   ]
  },
  {
   "cell_type": "markdown",
   "id": "f7a98743",
   "metadata": {},
   "source": [
    "### Filas repetidas (Descartado)"
   ]
  },
  {
   "cell_type": "markdown",
   "id": "e09c9d94",
   "metadata": {},
   "source": [
    "**Nota:** Se descarta esta acción dado que al no tener un identificador de fecha podría ser un vehículo igual con un cambio de partes similar, pero se deja el código en caso de enriquecer la información en un futuro\n",
    "\n",
    "*Para este caso se tiene 122 filas duplicadas que corresponden al 0.1% del total de los datos aunque no es significativo el borrarlas no lleva un mayor esfuerzo y se proceden a eliminar*"
   ]
  },
  {
   "cell_type": "code",
   "execution_count": 6,
   "id": "633fa067",
   "metadata": {},
   "outputs": [
    {
     "data": {
      "text/plain": [
       "103032"
      ]
     },
     "execution_count": 6,
     "metadata": {},
     "output_type": "execute_result"
    }
   ],
   "source": [
    "len(df)"
   ]
  },
  {
   "cell_type": "raw",
   "id": "86822e50",
   "metadata": {},
   "source": [
    "df = df.drop_duplicates()"
   ]
  },
  {
   "cell_type": "code",
   "execution_count": 7,
   "id": "78f14113",
   "metadata": {},
   "outputs": [
    {
     "data": {
      "text/plain": [
       "103032"
      ]
     },
     "execution_count": 7,
     "metadata": {},
     "output_type": "execute_result"
    }
   ],
   "source": [
    "len(df)"
   ]
  },
  {
   "cell_type": "markdown",
   "id": "556c69da",
   "metadata": {},
   "source": [
    "### Variable numero_aviso"
   ]
  },
  {
   "cell_type": "markdown",
   "id": "f25d37ba",
   "metadata": {},
   "source": [
    "**Numero de aviso:** es un idenficador único que agrupa un siniestro, bajo este ID se puede agrupar las distintas piezas de un siniestro.\n",
    "\n",
    "**Nota:** Esta variable se esta tomando como tipo numero cuando en realidad es una categoría por esta razón se procede a transformar para poder utilizar de manera mas eficiente en las agrupaciones y en los modelos si se ve su utilidad tratarla como tal"
   ]
  },
  {
   "cell_type": "code",
   "execution_count": 8,
   "id": "d73a66fe",
   "metadata": {},
   "outputs": [
    {
     "data": {
      "text/plain": [
       "count    103032.000000\n",
       "mean      44333.365479\n",
       "std       16371.133507\n",
       "min        8437.000000\n",
       "25%       29917.000000\n",
       "50%       47329.000000\n",
       "75%       58702.000000\n",
       "max       67229.000000\n",
       "Name: numero_aviso, dtype: float64"
      ]
     },
     "execution_count": 8,
     "metadata": {},
     "output_type": "execute_result"
    }
   ],
   "source": [
    "df[\"numero_aviso\"].describe()"
   ]
  },
  {
   "cell_type": "code",
   "execution_count": 9,
   "id": "12ab34f8",
   "metadata": {},
   "outputs": [],
   "source": [
    "df[\"numero_aviso\"] = df[\"numero_aviso\"].astype(str)"
   ]
  },
  {
   "cell_type": "code",
   "execution_count": 10,
   "id": "d2fe8e4d",
   "metadata": {},
   "outputs": [
    {
     "data": {
      "text/plain": [
       "count     103032\n",
       "unique      8708\n",
       "top        50067\n",
       "freq         111\n",
       "Name: numero_aviso, dtype: object"
      ]
     },
     "execution_count": 10,
     "metadata": {},
     "output_type": "execute_result"
    }
   ],
   "source": [
    "df[\"numero_aviso\"].describe()"
   ]
  },
  {
   "cell_type": "markdown",
   "id": "fbe0e6d4",
   "metadata": {},
   "source": [
    "Se puede observar que se están analizando 8708 eventos"
   ]
  },
  {
   "cell_type": "markdown",
   "id": "43102e66",
   "metadata": {},
   "source": [
    "### Variable Código irs"
   ]
  },
  {
   "cell_type": "markdown",
   "id": "48135399",
   "metadata": {},
   "source": [
    "**Código irs:** Es un identificador único de cada pieza. Puede que una pieza tenga diferentes nombres (bómper delantero o defensa delantero, bómper del., etc.), pero el código irs será único."
   ]
  },
  {
   "cell_type": "code",
   "execution_count": 11,
   "id": "879b4713",
   "metadata": {},
   "outputs": [],
   "source": [
    "df_irs = df.groupby([\"codigo_irs\", \"nombre\"], as_index=False).count()"
   ]
  },
  {
   "cell_type": "code",
   "execution_count": 12,
   "id": "133bdb3b",
   "metadata": {},
   "outputs": [],
   "source": [
    "df_irs = df_irs[[\"codigo_irs\", \"numero_aviso\", \"nombre\"]]\n",
    "df_irs = df_irs.rename(columns={\"numero_aviso\": \"count\"})\n",
    "df_irs = df_irs.sort_values(\"count\", ascending=False)\n",
    "df_irs = df_irs[0:12].reset_index(drop=True)"
   ]
  },
  {
   "cell_type": "code",
   "execution_count": 13,
   "id": "e1c93d3e",
   "metadata": {},
   "outputs": [
    {
     "data": {
      "text/html": [
       "<div>\n",
       "<style scoped>\n",
       "    .dataframe tbody tr th:only-of-type {\n",
       "        vertical-align: middle;\n",
       "    }\n",
       "\n",
       "    .dataframe tbody tr th {\n",
       "        vertical-align: top;\n",
       "    }\n",
       "\n",
       "    .dataframe thead th {\n",
       "        text-align: right;\n",
       "    }\n",
       "</style>\n",
       "<table border=\"1\" class=\"dataframe\">\n",
       "  <thead>\n",
       "    <tr style=\"text-align: right;\">\n",
       "      <th></th>\n",
       "      <th>codigo_irs</th>\n",
       "      <th>count</th>\n",
       "      <th>nombre</th>\n",
       "    </tr>\n",
       "  </thead>\n",
       "  <tbody>\n",
       "    <tr>\n",
       "      <th>0</th>\n",
       "      <td>02090112nndn</td>\n",
       "      <td>3134</td>\n",
       "      <td>defensa delantero</td>\n",
       "    </tr>\n",
       "    <tr>\n",
       "      <th>1</th>\n",
       "      <td>02090113nntn</td>\n",
       "      <td>2194</td>\n",
       "      <td>defensa trasero</td>\n",
       "    </tr>\n",
       "    <tr>\n",
       "      <th>2</th>\n",
       "      <td>02090066nddn</td>\n",
       "      <td>2145</td>\n",
       "      <td>guardafango derecho</td>\n",
       "    </tr>\n",
       "    <tr>\n",
       "      <th>3</th>\n",
       "      <td>02090200nndn</td>\n",
       "      <td>2111</td>\n",
       "      <td>tapa motor</td>\n",
       "    </tr>\n",
       "    <tr>\n",
       "      <th>4</th>\n",
       "      <td>02090067nidn</td>\n",
       "      <td>2077</td>\n",
       "      <td>guardafango izquierdo</td>\n",
       "    </tr>\n",
       "    <tr>\n",
       "      <th>5</th>\n",
       "      <td>02090129nndn</td>\n",
       "      <td>1449</td>\n",
       "      <td>parrilla</td>\n",
       "    </tr>\n",
       "    <tr>\n",
       "      <th>6</th>\n",
       "      <td>02090143nddn</td>\n",
       "      <td>1416</td>\n",
       "      <td>puerta delantero derecho</td>\n",
       "    </tr>\n",
       "    <tr>\n",
       "      <th>7</th>\n",
       "      <td>03040015nddn</td>\n",
       "      <td>1399</td>\n",
       "      <td>lampara delantero derecho</td>\n",
       "    </tr>\n",
       "    <tr>\n",
       "      <th>8</th>\n",
       "      <td>03040016nidn</td>\n",
       "      <td>1369</td>\n",
       "      <td>lampara delantero izquierdo</td>\n",
       "    </tr>\n",
       "    <tr>\n",
       "      <th>9</th>\n",
       "      <td>02090144nidn</td>\n",
       "      <td>1347</td>\n",
       "      <td>puerta delantero izquierdo</td>\n",
       "    </tr>\n",
       "    <tr>\n",
       "      <th>10</th>\n",
       "      <td>02090049ndtn</td>\n",
       "      <td>1344</td>\n",
       "      <td>guardafango trasero derecho</td>\n",
       "    </tr>\n",
       "    <tr>\n",
       "      <th>11</th>\n",
       "      <td>02090050nitn</td>\n",
       "      <td>1305</td>\n",
       "      <td>guardafango trasero izquierdo</td>\n",
       "    </tr>\n",
       "  </tbody>\n",
       "</table>\n",
       "</div>"
      ],
      "text/plain": [
       "      codigo_irs  count                         nombre\n",
       "0   02090112nndn   3134              defensa delantero\n",
       "1   02090113nntn   2194                defensa trasero\n",
       "2   02090066nddn   2145            guardafango derecho\n",
       "3   02090200nndn   2111                     tapa motor\n",
       "4   02090067nidn   2077          guardafango izquierdo\n",
       "5   02090129nndn   1449                       parrilla\n",
       "6   02090143nddn   1416       puerta delantero derecho\n",
       "7   03040015nddn   1399      lampara delantero derecho\n",
       "8   03040016nidn   1369    lampara delantero izquierdo\n",
       "9   02090144nidn   1347     puerta delantero izquierdo\n",
       "10  02090049ndtn   1344    guardafango trasero derecho\n",
       "11  02090050nitn   1305  guardafango trasero izquierdo"
      ]
     },
     "execution_count": 13,
     "metadata": {},
     "output_type": "execute_result"
    }
   ],
   "source": [
    "df_irs"
   ]
  },
  {
   "cell_type": "code",
   "execution_count": 14,
   "id": "f722de35",
   "metadata": {},
   "outputs": [
    {
     "data": {
      "image/png": "[encoded data removed]",
      "text/plain": [
       "<Figure size 640x480 with 1 Axes>"
      ]
     },
     "metadata": {},
     "output_type": "display_data"
    }
   ],
   "source": [
    "plt.Figure(figsize=(8, 6))\n",
    "plt.barh(df_irs[\"codigo_irs\"], df_irs[\"count\"])\n",
    "plt.title(\"Top 12 de las piezas con codigo IRS mas utilizadas\")\n",
    "plt.show()"
   ]
  },
  {
   "cell_type": "markdown",
   "id": "6f5d0ba4",
   "metadata": {},
   "source": [
    "Esta variable no tiene problemas salvo una alta cardinalidad es decir muchas categorías, para este caso 1665 valores distintos, pero el top 12 de códigos mas presentes en la base de datos da una idea mas clara de la información"
   ]
  },
  {
   "cell_type": "markdown",
   "id": "b1f1bd8e",
   "metadata": {},
   "source": [
    "### Variable nombre"
   ]
  },
  {
   "cell_type": "markdown",
   "id": "e190b058",
   "metadata": {},
   "source": [
    "**nombre:** nombre de la pieza.\n",
    "\n",
    "Esta variable no tiene mayor complicación salvo sus valores únicos ya que son 1741 vs 1665 del código irs es decir que pueden haber código irs repetidos con distinto nombre cosa que ya se mencionaba en el diccionario de variables"
   ]
  },
  {
   "cell_type": "markdown",
   "id": "2c292295",
   "metadata": {},
   "source": [
    "### Variable acción"
   ]
  },
  {
   "cell_type": "markdown",
   "id": "1a8f64f2",
   "metadata": {},
   "source": [
    "**Acción:** Es la acción que finalmente se llevó a cabo sobre la pieza (target).\n",
    "\n",
    "Esta variable siendo el objetivo del análisis no tiene valores NA y fácil determinar su frecuencia "
   ]
  },
  {
   "cell_type": "code",
   "execution_count": 15,
   "id": "561e7bce",
   "metadata": {},
   "outputs": [
    {
     "data": {
      "text/plain": [
       "cambiar    75598\n",
       "reparar    27434\n",
       "Name: accion, dtype: int64"
      ]
     },
     "execution_count": 15,
     "metadata": {},
     "output_type": "execute_result"
    }
   ],
   "source": [
    "df[\"accion\"].value_counts()"
   ]
  },
  {
   "cell_type": "code",
   "execution_count": 16,
   "id": "e9769c78",
   "metadata": {},
   "outputs": [
    {
     "data": {
      "image/png": "[encoded data removed]",
      "text/plain": [
       "<Figure size 640x480 with 1 Axes>"
      ]
     },
     "metadata": {},
     "output_type": "display_data"
    }
   ],
   "source": [
    "plt.Figure(figsize=(8, 6))\n",
    "plt.hist(df[\"accion\"])\n",
    "plt.title(\"Frecuencia de la acción a realizar\")\n",
    "plt.show()"
   ]
  },
  {
   "cell_type": "markdown",
   "id": "89ea6f39",
   "metadata": {},
   "source": [
    "Se puede observar des balanceo en los datos caso que se debe tener en cuenta a la hora de plantear un modelo"
   ]
  },
  {
   "cell_type": "markdown",
   "id": "17471eac",
   "metadata": {},
   "source": [
    "### Acción módelo"
   ]
  },
  {
   "cell_type": "markdown",
   "id": "d0823053",
   "metadata": {},
   "source": [
    "**acción_modelo:** es la acción sugerida por el modelo actualmente desplegado\n",
    "en producción.\n",
    "\n",
    "Variable interesante para poder comparar"
   ]
  },
  {
   "cell_type": "code",
   "execution_count": 17,
   "id": "ec2cb162",
   "metadata": {},
   "outputs": [
    {
     "data": {
      "text/plain": [
       "cambiar    67025\n",
       "reparar    36007\n",
       "Name: accion_modelo, dtype: int64"
      ]
     },
     "execution_count": 17,
     "metadata": {},
     "output_type": "execute_result"
    }
   ],
   "source": [
    "df[\"accion_modelo\"].value_counts()"
   ]
  },
  {
   "cell_type": "code",
   "execution_count": 18,
   "id": "fd50a9e9",
   "metadata": {},
   "outputs": [
    {
     "data": {
      "image/png": "[encoded data removed]",
      "text/plain": [
       "<Figure size 640x480 with 1 Axes>"
      ]
     },
     "metadata": {},
     "output_type": "display_data"
    }
   ],
   "source": [
    "plt.Figure(figsize=(8, 6))\n",
    "plt.hist(df[\"accion_modelo\"])\n",
    "plt.title(\"Frecuencia de la acción a realizar (módelo)\")\n",
    "plt.show()"
   ]
  },
  {
   "cell_type": "code",
   "execution_count": 19,
   "id": "d7328ae2",
   "metadata": {},
   "outputs": [
    {
     "data": {
      "text/html": [
       "<div>\n",
       "<style scoped>\n",
       "    .dataframe tbody tr th:only-of-type {\n",
       "        vertical-align: middle;\n",
       "    }\n",
       "\n",
       "    .dataframe tbody tr th {\n",
       "        vertical-align: top;\n",
       "    }\n",
       "\n",
       "    .dataframe thead th {\n",
       "        text-align: right;\n",
       "    }\n",
       "</style>\n",
       "<table border=\"1\" class=\"dataframe\">\n",
       "  <thead>\n",
       "    <tr style=\"text-align: right;\">\n",
       "      <th></th>\n",
       "      <th>accion</th>\n",
       "    </tr>\n",
       "  </thead>\n",
       "  <tbody>\n",
       "    <tr>\n",
       "      <th>cambiar</th>\n",
       "      <td>75598</td>\n",
       "    </tr>\n",
       "    <tr>\n",
       "      <th>reparar</th>\n",
       "      <td>27434</td>\n",
       "    </tr>\n",
       "  </tbody>\n",
       "</table>\n",
       "</div>"
      ],
      "text/plain": [
       "         accion\n",
       "cambiar   75598\n",
       "reparar   27434"
      ]
     },
     "execution_count": 19,
     "metadata": {},
     "output_type": "execute_result"
    }
   ],
   "source": [
    "# en esta parte se borran los duplicados dado que en el apartado del diagnostico del modelo actual se sugiere\n",
    "df_accion = df.drop_duplicates() \n",
    "df_accion = pd.DataFrame(df[\"accion\"].value_counts())\n",
    "df_accion"
   ]
  },
  {
   "cell_type": "code",
   "execution_count": 20,
   "id": "714b3f69",
   "metadata": {},
   "outputs": [
    {
     "data": {
      "text/html": [
       "<div>\n",
       "<style scoped>\n",
       "    .dataframe tbody tr th:only-of-type {\n",
       "        vertical-align: middle;\n",
       "    }\n",
       "\n",
       "    .dataframe tbody tr th {\n",
       "        vertical-align: top;\n",
       "    }\n",
       "\n",
       "    .dataframe thead th {\n",
       "        text-align: right;\n",
       "    }\n",
       "</style>\n",
       "<table border=\"1\" class=\"dataframe\">\n",
       "  <thead>\n",
       "    <tr style=\"text-align: right;\">\n",
       "      <th></th>\n",
       "      <th>accion_modelo</th>\n",
       "    </tr>\n",
       "  </thead>\n",
       "  <tbody>\n",
       "    <tr>\n",
       "      <th>cambiar</th>\n",
       "      <td>67025</td>\n",
       "    </tr>\n",
       "    <tr>\n",
       "      <th>reparar</th>\n",
       "      <td>36007</td>\n",
       "    </tr>\n",
       "  </tbody>\n",
       "</table>\n",
       "</div>"
      ],
      "text/plain": [
       "         accion_modelo\n",
       "cambiar          67025\n",
       "reparar          36007"
      ]
     },
     "execution_count": 20,
     "metadata": {},
     "output_type": "execute_result"
    }
   ],
   "source": [
    "df_accion_modelo = pd.DataFrame(df[\"accion_modelo\"].value_counts())\n",
    "df_accion_modelo"
   ]
  },
  {
   "cell_type": "code",
   "execution_count": 21,
   "id": "96d84241",
   "metadata": {},
   "outputs": [
    {
     "data": {
      "text/html": [
       "<div>\n",
       "<style scoped>\n",
       "    .dataframe tbody tr th:only-of-type {\n",
       "        vertical-align: middle;\n",
       "    }\n",
       "\n",
       "    .dataframe tbody tr th {\n",
       "        vertical-align: top;\n",
       "    }\n",
       "\n",
       "    .dataframe thead th {\n",
       "        text-align: right;\n",
       "    }\n",
       "</style>\n",
       "<table border=\"1\" class=\"dataframe\">\n",
       "  <thead>\n",
       "    <tr style=\"text-align: right;\">\n",
       "      <th></th>\n",
       "      <th>accion</th>\n",
       "      <th>accion_modelo</th>\n",
       "    </tr>\n",
       "  </thead>\n",
       "  <tbody>\n",
       "    <tr>\n",
       "      <th>cambiar</th>\n",
       "      <td>75598</td>\n",
       "      <td>67025</td>\n",
       "    </tr>\n",
       "    <tr>\n",
       "      <th>reparar</th>\n",
       "      <td>27434</td>\n",
       "      <td>36007</td>\n",
       "    </tr>\n",
       "  </tbody>\n",
       "</table>\n",
       "</div>"
      ],
      "text/plain": [
       "         accion  accion_modelo\n",
       "cambiar   75598          67025\n",
       "reparar   27434          36007"
      ]
     },
     "execution_count": 21,
     "metadata": {},
     "output_type": "execute_result"
    }
   ],
   "source": [
    "df_model_init = pd.concat([df_accion, df_accion_modelo], axis=1)\n",
    "df_model_init"
   ]
  },
  {
   "cell_type": "code",
   "execution_count": 22,
   "id": "b5543ffe",
   "metadata": {},
   "outputs": [
    {
     "data": {
      "text/plain": [
       "0.12790749720253647"
      ]
     },
     "execution_count": 22,
     "metadata": {},
     "output_type": "execute_result"
    }
   ],
   "source": [
    "cambiar_dif =  (df_model_init[\"accion\"][0] / df_model_init[\"accion_modelo\"][0] - 1)\n",
    "cambiar_dif "
   ]
  },
  {
   "cell_type": "code",
   "execution_count": 23,
   "id": "34bba5c6",
   "metadata": {},
   "outputs": [
    {
     "data": {
      "text/plain": [
       "0.2380925931068959"
      ]
     },
     "execution_count": 23,
     "metadata": {},
     "output_type": "execute_result"
    }
   ],
   "source": [
    "reparar_dif =  (1 - df_model_init[\"accion\"][1] / df_model_init[\"accion_modelo\"][1])\n",
    "reparar_dif "
   ]
  },
  {
   "cell_type": "markdown",
   "id": "d75e5156",
   "metadata": {},
   "source": [
    "Se puede observar como el modelo utilizado es menos efectivo en el caso de reparar piezas puede ser por el des balanceo de los datos, esta información es útil para el planteamiento del modelo"
   ]
  },
  {
   "cell_type": "markdown",
   "id": "a806b8eb",
   "metadata": {},
   "source": [
    "### Variable marca.1"
   ]
  },
  {
   "cell_type": "markdown",
   "id": "d74f19a3",
   "metadata": {},
   "source": [
    "**Marca:** marca del vehículo siniestrado i.e. Mazda, Chevrolet, Nissan.\n",
    "\n",
    "Esta variable según el EDA no tien valores NA, no se realizará ningún tratamiento pero igual se calcula el top de marcas "
   ]
  },
  {
   "cell_type": "code",
   "execution_count": 24,
   "id": "c8cc2251",
   "metadata": {},
   "outputs": [
    {
     "data": {
      "text/plain": [
       "HYUNDAI       22454\n",
       "TOYOTA        19608\n",
       "KIA           17090\n",
       "NISSAN        13499\n",
       "SUZUKI         7722\n",
       "HONDA          5287\n",
       "MITSUBISHI     3336\n",
       "CHEVROLET      2555\n",
       "MAZDA          2484\n",
       "FORD           1935\n",
       "ISUZU          1626\n",
       "BMW             815\n",
       "Name: marca.1, dtype: int64"
      ]
     },
     "execution_count": 24,
     "metadata": {},
     "output_type": "execute_result"
    }
   ],
   "source": [
    "df[\"marca.1\"].value_counts()[0:12]"
   ]
  },
  {
   "cell_type": "markdown",
   "id": "0d04733e",
   "metadata": {},
   "source": [
    "### Variable anio"
   ]
  },
  {
   "cell_type": "markdown",
   "id": "77ecd5ad",
   "metadata": {},
   "source": [
    "**Anio:** año de fabricación del vehículo.\n",
    "\n",
    "**Nota:** Esta variable se esta tomando como tipo numero cuando en realidad es una categoría por esta razón se procede a transformar para poder utilizar de manera mas eficiente en las agrupaciones y en los modelos si se ve su utilidad tratarla como tal, se sugiere trabajarla por rangos para a la hora de transformar a variable dummy no tener tantas columnas"
   ]
  },
  {
   "cell_type": "code",
   "execution_count": 25,
   "id": "7320d03f",
   "metadata": {},
   "outputs": [
    {
     "data": {
      "image/png": "[encoded data removed]",
      "text/plain": [
       "<Figure size 640x480 with 1 Axes>"
      ]
     },
     "metadata": {},
     "output_type": "display_data"
    }
   ],
   "source": [
    "plt.Figure(figsize=(8, 6))\n",
    "plt.boxplot(df[\"anio\"])\n",
    "plt.title(\"Comportamiento variable anio\")\n",
    "plt.show()"
   ]
  },
  {
   "cell_type": "code",
   "execution_count": 26,
   "id": "d1088259",
   "metadata": {},
   "outputs": [
    {
     "data": {
      "text/plain": [
       "count    103032.000000\n",
       "mean       2017.966311\n",
       "std           3.421135\n",
       "min        1987.000000\n",
       "25%        2016.000000\n",
       "50%        2018.000000\n",
       "75%        2020.000000\n",
       "max        2024.000000\n",
       "Name: anio, dtype: float64"
      ]
     },
     "execution_count": 26,
     "metadata": {},
     "output_type": "execute_result"
    }
   ],
   "source": [
    "df[\"anio\"].describe()"
   ]
  },
  {
   "cell_type": "code",
   "execution_count": 27,
   "id": "1a5cc9d2",
   "metadata": {},
   "outputs": [],
   "source": [
    "def anio_group(anio):\n",
    "\n",
    "    if anio <= 2024 and anio >= 2021:\n",
    "        anio_range = \"2024 - 2021\"\n",
    "    elif anio <= 2020 and anio >= 2017:\n",
    "        anio_range = \"2020 - 2017\"\n",
    "    elif anio <= 2016 and anio >= 2013:\n",
    "        anio_range = \"2016 - 2013\"\n",
    "    elif anio <= 2012 and anio >= 2009:\n",
    "        anio_range = \"2012 - 2009\"\n",
    "    elif anio <= 2008 and anio >= 2005:\n",
    "        anio_range = \"2008 - 2005\"\n",
    "    else:\n",
    "        anio_range = \"2004 - atrás\"\n",
    "    \n",
    "    return anio_range"
   ]
  },
  {
   "cell_type": "code",
   "execution_count": 28,
   "id": "c60ab753",
   "metadata": {},
   "outputs": [],
   "source": [
    "anio_range_list = list(map(anio_group, list(df[\"anio\"])))"
   ]
  },
  {
   "cell_type": "code",
   "execution_count": 29,
   "id": "663ff4e8",
   "metadata": {},
   "outputs": [],
   "source": [
    "df[\"anio_range\"] = anio_range_list"
   ]
  },
  {
   "cell_type": "code",
   "execution_count": 30,
   "id": "b0de6bd5",
   "metadata": {},
   "outputs": [],
   "source": [
    "df = df.drop(columns=[\"anio\"])"
   ]
  },
  {
   "cell_type": "markdown",
   "id": "93c4d539",
   "metadata": {},
   "source": [
    "Se crea la columna anio_range con los datos agrupados y se borra la variable anio"
   ]
  },
  {
   "cell_type": "markdown",
   "id": "da9e3e62",
   "metadata": {},
   "source": [
    "### Variable linea"
   ]
  },
  {
   "cell_type": "markdown",
   "id": "27d90a97",
   "metadata": {},
   "source": [
    "**Línea:** Línea del vehículo i.e. Logan, Sail, Spark, Accent.\n",
    "\n",
    "Esta es una variable categórica con 41 valores únicos puede ser importante para al análisis"
   ]
  },
  {
   "cell_type": "code",
   "execution_count": 31,
   "id": "045835c9",
   "metadata": {},
   "outputs": [],
   "source": [
    "df_linea = df.groupby([\"linea\"], as_index=False).count()"
   ]
  },
  {
   "cell_type": "code",
   "execution_count": 32,
   "id": "625dd334",
   "metadata": {},
   "outputs": [],
   "source": [
    "df_linea = df_linea[[\"linea\", \"numero_aviso\"]]\n",
    "df_linea = df_linea.rename(columns={\"numero_aviso\": \"count\"})\n",
    "df_linea = df_linea.sort_values(\"count\", ascending=False)\n",
    "df_linea = df_linea[0:12].reset_index(drop=True)"
   ]
  },
  {
   "cell_type": "code",
   "execution_count": 33,
   "id": "682c4680",
   "metadata": {},
   "outputs": [
    {
     "data": {
      "text/html": [
       "<div>\n",
       "<style scoped>\n",
       "    .dataframe tbody tr th:only-of-type {\n",
       "        vertical-align: middle;\n",
       "    }\n",
       "\n",
       "    .dataframe tbody tr th {\n",
       "        vertical-align: top;\n",
       "    }\n",
       "\n",
       "    .dataframe thead th {\n",
       "        text-align: right;\n",
       "    }\n",
       "</style>\n",
       "<table border=\"1\" class=\"dataframe\">\n",
       "  <thead>\n",
       "    <tr style=\"text-align: right;\">\n",
       "      <th></th>\n",
       "      <th>linea</th>\n",
       "      <th>count</th>\n",
       "    </tr>\n",
       "  </thead>\n",
       "  <tbody>\n",
       "    <tr>\n",
       "      <th>0</th>\n",
       "      <td>RIO</td>\n",
       "      <td>3810</td>\n",
       "    </tr>\n",
       "    <tr>\n",
       "      <th>1</th>\n",
       "      <td>HILUX</td>\n",
       "      <td>3790</td>\n",
       "    </tr>\n",
       "    <tr>\n",
       "      <th>2</th>\n",
       "      <td>ACCENT</td>\n",
       "      <td>3277</td>\n",
       "    </tr>\n",
       "    <tr>\n",
       "      <th>3</th>\n",
       "      <td>hilux</td>\n",
       "      <td>2537</td>\n",
       "    </tr>\n",
       "    <tr>\n",
       "      <th>4</th>\n",
       "      <td>VERSA</td>\n",
       "      <td>2516</td>\n",
       "    </tr>\n",
       "    <tr>\n",
       "      <th>5</th>\n",
       "      <td>rio</td>\n",
       "      <td>2489</td>\n",
       "    </tr>\n",
       "    <tr>\n",
       "      <th>6</th>\n",
       "      <td>YARIS</td>\n",
       "      <td>2084</td>\n",
       "    </tr>\n",
       "    <tr>\n",
       "      <th>7</th>\n",
       "      <td>accent</td>\n",
       "      <td>2049</td>\n",
       "    </tr>\n",
       "    <tr>\n",
       "      <th>8</th>\n",
       "      <td>TUCSON</td>\n",
       "      <td>1945</td>\n",
       "    </tr>\n",
       "    <tr>\n",
       "      <th>9</th>\n",
       "      <td>SPORTAGE</td>\n",
       "      <td>1710</td>\n",
       "    </tr>\n",
       "    <tr>\n",
       "      <th>10</th>\n",
       "      <td>ELANTRA</td>\n",
       "      <td>1696</td>\n",
       "    </tr>\n",
       "    <tr>\n",
       "      <th>11</th>\n",
       "      <td>yaris</td>\n",
       "      <td>1655</td>\n",
       "    </tr>\n",
       "  </tbody>\n",
       "</table>\n",
       "</div>"
      ],
      "text/plain": [
       "       linea  count\n",
       "0        RIO   3810\n",
       "1      HILUX   3790\n",
       "2     ACCENT   3277\n",
       "3      hilux   2537\n",
       "4      VERSA   2516\n",
       "5        rio   2489\n",
       "6      YARIS   2084\n",
       "7     accent   2049\n",
       "8     TUCSON   1945\n",
       "9   SPORTAGE   1710\n",
       "10   ELANTRA   1696\n",
       "11     yaris   1655"
      ]
     },
     "execution_count": 33,
     "metadata": {},
     "output_type": "execute_result"
    }
   ],
   "source": [
    "df_linea"
   ]
  },
  {
   "cell_type": "code",
   "execution_count": 34,
   "id": "73fb54bb",
   "metadata": {},
   "outputs": [
    {
     "data": {
      "image/png": "[encoded data removed]",
      "text/plain": [
       "<Figure size 640x480 with 1 Axes>"
      ]
     },
     "metadata": {},
     "output_type": "display_data"
    }
   ],
   "source": [
    "plt.Figure(figsize=(8, 6))\n",
    "plt.barh(df_linea[\"linea\"], df_irs[\"count\"])\n",
    "plt.title(\"Top 12 de las lineas de vehiculos\")\n",
    "plt.show()"
   ]
  },
  {
   "cell_type": "markdown",
   "id": "a0d6ced7",
   "metadata": {},
   "source": [
    "### Grupo y subgrupo\n",
    "\n",
    "**Grupo y subgrupo:** Id que arrojan información sobre el tipo de repuesto (Electricidad, mecánica, carrocería, suspensión, airbags, etc.). Estos id están codificados\n",
    "\n",
    "Estas variables deben ser consideradas como categóricas"
   ]
  },
  {
   "cell_type": "code",
   "execution_count": 35,
   "id": "1bfc10b8",
   "metadata": {},
   "outputs": [],
   "source": [
    "df[\"grupo\"] = df[\"grupo\"].astype(str)"
   ]
  },
  {
   "cell_type": "code",
   "execution_count": 36,
   "id": "6b698b25",
   "metadata": {},
   "outputs": [],
   "source": [
    "df[\"subgrupo\"] = df[\"subgrupo\"].astype(str)"
   ]
  },
  {
   "cell_type": "code",
   "execution_count": 37,
   "id": "bd43d23b",
   "metadata": {},
   "outputs": [
    {
     "data": {
      "image/png": "[encoded data removed]",
      "text/plain": [
       "<Figure size 640x480 with 1 Axes>"
      ]
     },
     "metadata": {},
     "output_type": "display_data"
    }
   ],
   "source": [
    "plt.Figure(figsize=(8, 6))\n",
    "plt.hist(df[\"grupo\"])\n",
    "plt.title(\"Frecuencia variable grupo\")\n",
    "plt.show()"
   ]
  },
  {
   "cell_type": "code",
   "execution_count": 38,
   "id": "42f89996",
   "metadata": {},
   "outputs": [
    {
     "data": {
      "image/png": "[encoded data removed]",
      "text/plain": [
       "<Figure size 640x480 with 1 Axes>"
      ]
     },
     "metadata": {},
     "output_type": "display_data"
    }
   ],
   "source": [
    "plt.Figure(figsize=(8, 6))\n",
    "plt.hist(df[\"subgrupo\"])\n",
    "plt.title(\"Frecuencia variable subgrupo\")\n",
    "plt.show()"
   ]
  },
  {
   "cell_type": "markdown",
   "id": "3e6fd71a",
   "metadata": {},
   "source": [
    "### Variable tipo_carroceria"
   ]
  },
  {
   "cell_type": "markdown",
   "id": "0df06cab",
   "metadata": {},
   "source": [
    "**Tipo de carrocería:** tipo de cuerpo del vehículo i.e. camioneta, sedan, campero.\n",
    "\n",
    "Esta variable es categórica no tiene mayores transformaciones"
   ]
  },
  {
   "cell_type": "code",
   "execution_count": 39,
   "id": "bcf4e75e",
   "metadata": {},
   "outputs": [
    {
     "data": {
      "image/png": "[encoded data removed]",
      "text/plain": [
       "<Figure size 640x480 with 1 Axes>"
      ]
     },
     "metadata": {},
     "output_type": "display_data"
    }
   ],
   "source": [
    "plt.Figure(figsize=(8, 6))\n",
    "plt.hist(df[\"tipo_carroceria\"])\n",
    "plt.title(\"Frecuencia variable tipo_carroceria\")\n",
    "plt.show()"
   ]
  },
  {
   "cell_type": "markdown",
   "id": "06b3fccb",
   "metadata": {},
   "source": [
    "## Resultados segundo EDA"
   ]
  },
  {
   "cell_type": "code",
   "execution_count": 40,
   "id": "098782df",
   "metadata": {},
   "outputs": [
    {
     "data": {
      "application/vnd.jupyter.widget-view+json": {
       "model_id": "004dafbf320f409ca9530b1e12f8e206",
       "version_major": 2,
       "version_minor": 0
      },
      "text/plain": [
       "Summarize dataset:   0%|          | 0/5 [00:00<?, ?it/s]"
      ]
     },
     "metadata": {},
     "output_type": "display_data"
    },
    {
     "name": "stderr",
     "output_type": "stream",
     "text": [
      "/home/oscar/anaconda3/lib/python3.10/site-packages/scipy/stats/_stats_py.py:112: RuntimeWarning: The input array could not be properly checked for nan values. nan values will be ignored.\n",
      "  warnings.warn(\"The input array could not be properly \"\n",
      "/home/oscar/anaconda3/lib/python3.10/site-packages/scipy/stats/_stats_py.py:112: RuntimeWarning: The input array could not be properly checked for nan values. nan values will be ignored.\n",
      "  warnings.warn(\"The input array could not be properly \"\n"
     ]
    },
    {
     "data": {
      "application/vnd.jupyter.widget-view+json": {
       "model_id": "4f5689862e73424abb4bcd293c2a6b24",
       "version_major": 2,
       "version_minor": 0
      },
      "text/plain": [
       "Generate report structure:   0%|          | 0/1 [00:00<?, ?it/s]"
      ]
     },
     "metadata": {},
     "output_type": "display_data"
    },
    {
     "data": {
      "application/vnd.jupyter.widget-view+json": {
       "model_id": "05ebd88763cd44a7bbc603d7ea0757aa",
       "version_major": 2,
       "version_minor": 0
      },
      "text/plain": [
       "Render HTML:   0%|          | 0/1 [00:00<?, ?it/s]"
      ]
     },
     "metadata": {},
     "output_type": "display_data"
    },
    {
     "data": {
      "application/vnd.jupyter.widget-view+json": {
       "model_id": "f170905f95ad46c8b7b5f890875b8d01",
       "version_major": 2,
       "version_minor": 0
      },
      "text/plain": [
       "Export report to file:   0%|          | 0/1 [00:00<?, ?it/s]"
      ]
     },
     "metadata": {},
     "output_type": "display_data"
    }
   ],
   "source": [
    "profile = ProfileReport(df, minimal=False)\n",
    "profile.to_file(\"eda_files/output_clean.html\")"
   ]
  },
  {
   "cell_type": "markdown",
   "id": "5e52bf21",
   "metadata": {},
   "source": [
    "En esta etapa se analizaran las variables en función de las recomendaciones del EDA, esto con el fin de tener los datos refinados para modelaros posteriormente, **el análisis posterior a limpiar las variables se encuentra** como un pagina web en la la ubicación: **eda_files/output_clean.htm**, este archivo tiene de manera grafica la siguiente información:\n",
    "\n",
    "* Descripción general de las variables\n",
    "* Descripción detallada de las variables\n",
    "* Matriz de interacciones\n",
    "* Matriz de correlación (**punto solicitado en el documento del análisis**)\n",
    "* Recomendaciones del estado de las variables\n",
    "* Información estadística de cada variable"
   ]
  },
  {
   "cell_type": "code",
   "execution_count": 41,
   "id": "fd887f2f",
   "metadata": {},
   "outputs": [
    {
     "data": {
      "text/plain": [
       "Index(['numero_aviso', 'marca', 'codigo_irs', 'nombre', 'accion',\n",
       "       'accion_modelo', 'marca.1', 'linea', 'grupo', 'subgrupo',\n",
       "       'tipo_carroceria', 'anio_range'],\n",
       "      dtype='object')"
      ]
     },
     "execution_count": 41,
     "metadata": {},
     "output_type": "execute_result"
    }
   ],
   "source": [
    "df.columns"
   ]
  },
  {
   "cell_type": "markdown",
   "id": "1f09c97f",
   "metadata": {},
   "source": [
    "## Actividades requeridas para el análisis "
   ]
  },
  {
   "cell_type": "markdown",
   "id": "02323f55",
   "metadata": {},
   "source": [
    "### 1. Realizar un diagnóstico del modelo y determinar su desempeño actual en una aseguradora."
   ]
  },
  {
   "cell_type": "markdown",
   "id": "df3015ba",
   "metadata": {},
   "source": [
    "En el análisis exploratorio se reviso esta parte pero aquí se entra mas en detalle del estado del modelo actual"
   ]
  },
  {
   "cell_type": "code",
   "execution_count": 42,
   "id": "2a6180f9",
   "metadata": {},
   "outputs": [
    {
     "data": {
      "text/html": [
       "<div>\n",
       "<style scoped>\n",
       "    .dataframe tbody tr th:only-of-type {\n",
       "        vertical-align: middle;\n",
       "    }\n",
       "\n",
       "    .dataframe tbody tr th {\n",
       "        vertical-align: top;\n",
       "    }\n",
       "\n",
       "    .dataframe thead th {\n",
       "        text-align: right;\n",
       "    }\n",
       "</style>\n",
       "<table border=\"1\" class=\"dataframe\">\n",
       "  <thead>\n",
       "    <tr style=\"text-align: right;\">\n",
       "      <th></th>\n",
       "      <th>accion</th>\n",
       "      <th>accion_modelo</th>\n",
       "      <th>count</th>\n",
       "    </tr>\n",
       "  </thead>\n",
       "  <tbody>\n",
       "    <tr>\n",
       "      <th>0</th>\n",
       "      <td>cambiar</td>\n",
       "      <td>cambiar</td>\n",
       "      <td>53908</td>\n",
       "    </tr>\n",
       "    <tr>\n",
       "      <th>1</th>\n",
       "      <td>cambiar</td>\n",
       "      <td>reparar</td>\n",
       "      <td>21690</td>\n",
       "    </tr>\n",
       "    <tr>\n",
       "      <th>2</th>\n",
       "      <td>reparar</td>\n",
       "      <td>cambiar</td>\n",
       "      <td>13117</td>\n",
       "    </tr>\n",
       "    <tr>\n",
       "      <th>3</th>\n",
       "      <td>reparar</td>\n",
       "      <td>reparar</td>\n",
       "      <td>14317</td>\n",
       "    </tr>\n",
       "  </tbody>\n",
       "</table>\n",
       "</div>"
      ],
      "text/plain": [
       "    accion accion_modelo  count\n",
       "0  cambiar       cambiar  53908\n",
       "1  cambiar       reparar  21690\n",
       "2  reparar       cambiar  13117\n",
       "3  reparar       reparar  14317"
      ]
     },
     "execution_count": 42,
     "metadata": {},
     "output_type": "execute_result"
    }
   ],
   "source": [
    "df_error = df.groupby(by=[\"accion\", \"accion_modelo\"], as_index=False).count()\n",
    "df_error = df_error[[\"accion\", \"accion_modelo\", \"grupo\"]]\n",
    "df_error = df_error.rename(columns={\"grupo\": \"count\"})\n",
    "df_error"
   ]
  },
  {
   "cell_type": "code",
   "execution_count": 43,
   "id": "25b06762",
   "metadata": {},
   "outputs": [],
   "source": [
    "df_error[\"accion_resume\"] = df_error[\"accion\"] + \"_\" + df_error[\"accion_modelo\"]"
   ]
  },
  {
   "cell_type": "code",
   "execution_count": 44,
   "id": "832bd5ca",
   "metadata": {},
   "outputs": [
    {
     "data": {
      "text/html": [
       "<div>\n",
       "<style scoped>\n",
       "    .dataframe tbody tr th:only-of-type {\n",
       "        vertical-align: middle;\n",
       "    }\n",
       "\n",
       "    .dataframe tbody tr th {\n",
       "        vertical-align: top;\n",
       "    }\n",
       "\n",
       "    .dataframe thead th {\n",
       "        text-align: right;\n",
       "    }\n",
       "</style>\n",
       "<table border=\"1\" class=\"dataframe\">\n",
       "  <thead>\n",
       "    <tr style=\"text-align: right;\">\n",
       "      <th></th>\n",
       "      <th>accion</th>\n",
       "      <th>accion_modelo</th>\n",
       "      <th>count</th>\n",
       "      <th>accion_resume</th>\n",
       "    </tr>\n",
       "  </thead>\n",
       "  <tbody>\n",
       "    <tr>\n",
       "      <th>0</th>\n",
       "      <td>cambiar</td>\n",
       "      <td>cambiar</td>\n",
       "      <td>53908</td>\n",
       "      <td>cambiar_cambiar</td>\n",
       "    </tr>\n",
       "    <tr>\n",
       "      <th>1</th>\n",
       "      <td>cambiar</td>\n",
       "      <td>reparar</td>\n",
       "      <td>21690</td>\n",
       "      <td>cambiar_reparar</td>\n",
       "    </tr>\n",
       "    <tr>\n",
       "      <th>2</th>\n",
       "      <td>reparar</td>\n",
       "      <td>cambiar</td>\n",
       "      <td>13117</td>\n",
       "      <td>reparar_cambiar</td>\n",
       "    </tr>\n",
       "    <tr>\n",
       "      <th>3</th>\n",
       "      <td>reparar</td>\n",
       "      <td>reparar</td>\n",
       "      <td>14317</td>\n",
       "      <td>reparar_reparar</td>\n",
       "    </tr>\n",
       "  </tbody>\n",
       "</table>\n",
       "</div>"
      ],
      "text/plain": [
       "    accion accion_modelo  count    accion_resume\n",
       "0  cambiar       cambiar  53908  cambiar_cambiar\n",
       "1  cambiar       reparar  21690  cambiar_reparar\n",
       "2  reparar       cambiar  13117  reparar_cambiar\n",
       "3  reparar       reparar  14317  reparar_reparar"
      ]
     },
     "execution_count": 44,
     "metadata": {},
     "output_type": "execute_result"
    }
   ],
   "source": [
    "df_error.head()"
   ]
  },
  {
   "cell_type": "code",
   "execution_count": 45,
   "id": "035603ee",
   "metadata": {},
   "outputs": [
    {
     "data": {
      "image/png": "[encoded data removed]",
      "text/plain": [
       "<Figure size 640x480 with 1 Axes>"
      ]
     },
     "metadata": {},
     "output_type": "display_data"
    }
   ],
   "source": [
    "ax = sns.barplot(x='count', y='accion_resume',\n",
    "                 hue='accion_resume', data=df_error,\n",
    "                 errwidth=0)\n",
    " \n",
    "for i in ax.containers:\n",
    "    ax.bar_label(i, padding=-40)\n",
    "ax.set_title('Comportamiento modelo actual')\n",
    "plt.show()"
   ]
  },
  {
   "cell_type": "code",
   "execution_count": 46,
   "id": "2078a325",
   "metadata": {},
   "outputs": [
    {
     "data": {
      "text/plain": [
       "53908"
      ]
     },
     "execution_count": 46,
     "metadata": {},
     "output_type": "execute_result"
    }
   ],
   "source": [
    "# predicciones correctas cambiando partes\n",
    "t_p = df_error[\"count\"][df_error[\"accion_resume\"] == \"cambiar_cambiar\"]\n",
    "t_p[0]"
   ]
  },
  {
   "cell_type": "code",
   "execution_count": 47,
   "id": "dda43c66",
   "metadata": {},
   "outputs": [
    {
     "data": {
      "text/plain": [
       "14317"
      ]
     },
     "execution_count": 47,
     "metadata": {},
     "output_type": "execute_result"
    }
   ],
   "source": [
    "# predicciones correctas reparando partes\n",
    "t_n = df_error[\"count\"][df_error[\"accion_resume\"] == \"reparar_reparar\"]\n",
    "t_n[3]"
   ]
  },
  {
   "cell_type": "code",
   "execution_count": 48,
   "id": "4aa20a27",
   "metadata": {},
   "outputs": [
    {
     "data": {
      "text/plain": [
       "21690"
      ]
     },
     "execution_count": 48,
     "metadata": {},
     "output_type": "execute_result"
    }
   ],
   "source": [
    "f_p = df_error[\"count\"][df_error[\"accion_resume\"] == \"cambiar_reparar\"]\n",
    "f_p[1]"
   ]
  },
  {
   "cell_type": "code",
   "execution_count": 49,
   "id": "8bb17cef",
   "metadata": {},
   "outputs": [
    {
     "data": {
      "text/plain": [
       "13117"
      ]
     },
     "execution_count": 49,
     "metadata": {},
     "output_type": "execute_result"
    }
   ],
   "source": [
    "f_n = df_error[\"count\"][df_error[\"accion_resume\"] == \"reparar_cambiar\"]\n",
    "f_n[2]"
   ]
  },
  {
   "cell_type": "code",
   "execution_count": 50,
   "id": "0f7e8787",
   "metadata": {},
   "outputs": [
    {
     "data": {
      "text/plain": [
       "0.6621729171519528"
      ]
     },
     "execution_count": 50,
     "metadata": {},
     "output_type": "execute_result"
    }
   ],
   "source": [
    "accuracy = (t_p[0] + t_n[3]) / len(df)\n",
    "accuracy"
   ]
  },
  {
   "cell_type": "markdown",
   "id": "8ed92cc8",
   "metadata": {},
   "source": [
    "**Exactitud del módelo actual = 66.0%**"
   ]
  },
  {
   "cell_type": "code",
   "execution_count": 51,
   "id": "f8da447e",
   "metadata": {},
   "outputs": [
    {
     "name": "stdout",
     "output_type": "stream",
     "text": [
      "La exactitud del modelo es de 66.0% con esto podemos establecer una línea base para los modelos que se van a proponer\n"
     ]
    }
   ],
   "source": [
    "print(f\"La exactitud del modelo es de {round(accuracy, 2) * 100}% con esto podemos establecer una línea base para los modelos que se van a proponer\")"
   ]
  },
  {
   "cell_type": "code",
   "execution_count": 52,
   "id": "d398bc8e",
   "metadata": {},
   "outputs": [
    {
     "data": {
      "text/plain": [
       "0.7130876478213709"
      ]
     },
     "execution_count": 52,
     "metadata": {},
     "output_type": "execute_result"
    }
   ],
   "source": [
    "precision = t_p[0] / (t_p[0] + f_p[1])\n",
    "precision"
   ]
  },
  {
   "cell_type": "code",
   "execution_count": 74,
   "id": "d501774b",
   "metadata": {},
   "outputs": [
    {
     "data": {
      "text/plain": [
       "0.8042969041402461"
      ]
     },
     "execution_count": 74,
     "metadata": {},
     "output_type": "execute_result"
    }
   ],
   "source": [
    "recall = t_p[0] / (t_p[0] + f_n[2])\n",
    "recall"
   ]
  },
  {
   "cell_type": "markdown",
   "id": "8a00e266",
   "metadata": {},
   "source": [
    "**Nota:** Analizando la *precision 71.3%* y el *recall 80.4%* del modelo actual se puede observar que el modelo actual tiene a tener mas falsos positivos, es decir se equivoca mas cuando la acción es cambiar cuando la refacción se puede reparar"
   ]
  },
  {
   "cell_type": "code",
   "execution_count": null,
   "id": "f8e370fa",
   "metadata": {},
   "outputs": [],
   "source": []
  },
  {
   "cell_type": "code",
   "execution_count": 64,
   "id": "88b15a34",
   "metadata": {},
   "outputs": [
    {
     "data": {
      "text/html": [
       "<div>\n",
       "<style scoped>\n",
       "    .dataframe tbody tr th:only-of-type {\n",
       "        vertical-align: middle;\n",
       "    }\n",
       "\n",
       "    .dataframe tbody tr th {\n",
       "        vertical-align: top;\n",
       "    }\n",
       "\n",
       "    .dataframe thead th {\n",
       "        text-align: right;\n",
       "    }\n",
       "</style>\n",
       "<table border=\"1\" class=\"dataframe\">\n",
       "  <thead>\n",
       "    <tr style=\"text-align: right;\">\n",
       "      <th></th>\n",
       "      <th>accion</th>\n",
       "      <th>accion_modelo</th>\n",
       "      <th>nombre</th>\n",
       "      <th>codigo_irs</th>\n",
       "    </tr>\n",
       "  </thead>\n",
       "  <tbody>\n",
       "    <tr>\n",
       "      <th>0</th>\n",
       "      <td>cambiar</td>\n",
       "      <td>cambiar</td>\n",
       "      <td>computadora</td>\n",
       "      <td>03060003nndn</td>\n",
       "    </tr>\n",
       "    <tr>\n",
       "      <th>1</th>\n",
       "      <td>cambiar</td>\n",
       "      <td>cambiar</td>\n",
       "      <td>cable ground de bateria</td>\n",
       "      <td>03030005nndn</td>\n",
       "    </tr>\n",
       "    <tr>\n",
       "      <th>2</th>\n",
       "      <td>cambiar</td>\n",
       "      <td>cambiar</td>\n",
       "      <td>pollera delantero izquierdo</td>\n",
       "      <td>02090225nidn</td>\n",
       "    </tr>\n",
       "    <tr>\n",
       "      <th>3</th>\n",
       "      <td>cambiar</td>\n",
       "      <td>reparar</td>\n",
       "      <td>lampara delantero izquierdo</td>\n",
       "      <td>03040016nidn</td>\n",
       "    </tr>\n",
       "    <tr>\n",
       "      <th>4</th>\n",
       "      <td>cambiar</td>\n",
       "      <td>cambiar</td>\n",
       "      <td>bisagra derecho tapa motor</td>\n",
       "      <td>02090021nddn</td>\n",
       "    </tr>\n",
       "  </tbody>\n",
       "</table>\n",
       "</div>"
      ],
      "text/plain": [
       "    accion accion_modelo                       nombre    codigo_irs\n",
       "0  cambiar       cambiar                  computadora  03060003nndn\n",
       "1  cambiar       cambiar      cable ground de bateria  03030005nndn\n",
       "2  cambiar       cambiar  pollera delantero izquierdo  02090225nidn\n",
       "3  cambiar       reparar  lampara delantero izquierdo  03040016nidn\n",
       "4  cambiar       cambiar   bisagra derecho tapa motor  02090021nddn"
      ]
     },
     "execution_count": 64,
     "metadata": {},
     "output_type": "execute_result"
    }
   ],
   "source": [
    "df_model_acc = df[[\"accion\", \"accion_modelo\", \"nombre\", \"codigo_irs\"]]\n",
    "df_model_acc.head()"
   ]
  },
  {
   "cell_type": "code",
   "execution_count": 65,
   "id": "620b3135",
   "metadata": {},
   "outputs": [],
   "source": [
    "def bad_prediction(row_1, row_2):\n",
    "    if row_1 == row_2:\n",
    "        prediction = False\n",
    "    else:\n",
    "        prediction = True\n",
    "    return prediction"
   ]
  },
  {
   "cell_type": "code",
   "execution_count": 66,
   "id": "e53c83ff",
   "metadata": {},
   "outputs": [],
   "source": [
    "bad_pred = list(map(bad_prediction, list(df[\"accion\"]), list(df[\"accion_modelo\"])))"
   ]
  },
  {
   "cell_type": "code",
   "execution_count": 67,
   "id": "8476cd2c",
   "metadata": {},
   "outputs": [],
   "source": [
    "df_model_acc[\"bad_pred\"] = deepcopy(bad_pred)"
   ]
  },
  {
   "cell_type": "code",
   "execution_count": 68,
   "id": "976cc9d7",
   "metadata": {},
   "outputs": [
    {
     "data": {
      "text/html": [
       "<div>\n",
       "<style scoped>\n",
       "    .dataframe tbody tr th:only-of-type {\n",
       "        vertical-align: middle;\n",
       "    }\n",
       "\n",
       "    .dataframe tbody tr th {\n",
       "        vertical-align: top;\n",
       "    }\n",
       "\n",
       "    .dataframe thead th {\n",
       "        text-align: right;\n",
       "    }\n",
       "</style>\n",
       "<table border=\"1\" class=\"dataframe\">\n",
       "  <thead>\n",
       "    <tr style=\"text-align: right;\">\n",
       "      <th></th>\n",
       "      <th>accion</th>\n",
       "      <th>accion_modelo</th>\n",
       "      <th>nombre</th>\n",
       "      <th>codigo_irs</th>\n",
       "      <th>bad_pred</th>\n",
       "    </tr>\n",
       "  </thead>\n",
       "  <tbody>\n",
       "    <tr>\n",
       "      <th>0</th>\n",
       "      <td>cambiar</td>\n",
       "      <td>cambiar</td>\n",
       "      <td>computadora</td>\n",
       "      <td>03060003nndn</td>\n",
       "      <td>False</td>\n",
       "    </tr>\n",
       "    <tr>\n",
       "      <th>1</th>\n",
       "      <td>cambiar</td>\n",
       "      <td>cambiar</td>\n",
       "      <td>cable ground de bateria</td>\n",
       "      <td>03030005nndn</td>\n",
       "      <td>False</td>\n",
       "    </tr>\n",
       "    <tr>\n",
       "      <th>2</th>\n",
       "      <td>cambiar</td>\n",
       "      <td>cambiar</td>\n",
       "      <td>pollera delantero izquierdo</td>\n",
       "      <td>02090225nidn</td>\n",
       "      <td>False</td>\n",
       "    </tr>\n",
       "    <tr>\n",
       "      <th>3</th>\n",
       "      <td>cambiar</td>\n",
       "      <td>reparar</td>\n",
       "      <td>lampara delantero izquierdo</td>\n",
       "      <td>03040016nidn</td>\n",
       "      <td>True</td>\n",
       "    </tr>\n",
       "    <tr>\n",
       "      <th>4</th>\n",
       "      <td>cambiar</td>\n",
       "      <td>cambiar</td>\n",
       "      <td>bisagra derecho tapa motor</td>\n",
       "      <td>02090021nddn</td>\n",
       "      <td>False</td>\n",
       "    </tr>\n",
       "  </tbody>\n",
       "</table>\n",
       "</div>"
      ],
      "text/plain": [
       "    accion accion_modelo                       nombre    codigo_irs  bad_pred\n",
       "0  cambiar       cambiar                  computadora  03060003nndn     False\n",
       "1  cambiar       cambiar      cable ground de bateria  03030005nndn     False\n",
       "2  cambiar       cambiar  pollera delantero izquierdo  02090225nidn     False\n",
       "3  cambiar       reparar  lampara delantero izquierdo  03040016nidn      True\n",
       "4  cambiar       cambiar   bisagra derecho tapa motor  02090021nddn     False"
      ]
     },
     "execution_count": 68,
     "metadata": {},
     "output_type": "execute_result"
    }
   ],
   "source": [
    "df_model_acc.head()"
   ]
  },
  {
   "cell_type": "code",
   "execution_count": 69,
   "id": "760301e3",
   "metadata": {},
   "outputs": [
    {
     "data": {
      "text/html": [
       "<div>\n",
       "<style scoped>\n",
       "    .dataframe tbody tr th:only-of-type {\n",
       "        vertical-align: middle;\n",
       "    }\n",
       "\n",
       "    .dataframe tbody tr th {\n",
       "        vertical-align: top;\n",
       "    }\n",
       "\n",
       "    .dataframe thead th {\n",
       "        text-align: right;\n",
       "    }\n",
       "</style>\n",
       "<table border=\"1\" class=\"dataframe\">\n",
       "  <thead>\n",
       "    <tr style=\"text-align: right;\">\n",
       "      <th></th>\n",
       "      <th>bad_pred_False</th>\n",
       "      <th>bad_pred_True</th>\n",
       "    </tr>\n",
       "  </thead>\n",
       "  <tbody>\n",
       "    <tr>\n",
       "      <th>0</th>\n",
       "      <td>1</td>\n",
       "      <td>0</td>\n",
       "    </tr>\n",
       "    <tr>\n",
       "      <th>1</th>\n",
       "      <td>1</td>\n",
       "      <td>0</td>\n",
       "    </tr>\n",
       "    <tr>\n",
       "      <th>2</th>\n",
       "      <td>1</td>\n",
       "      <td>0</td>\n",
       "    </tr>\n",
       "    <tr>\n",
       "      <th>3</th>\n",
       "      <td>0</td>\n",
       "      <td>1</td>\n",
       "    </tr>\n",
       "    <tr>\n",
       "      <th>4</th>\n",
       "      <td>1</td>\n",
       "      <td>0</td>\n",
       "    </tr>\n",
       "    <tr>\n",
       "      <th>...</th>\n",
       "      <td>...</td>\n",
       "      <td>...</td>\n",
       "    </tr>\n",
       "    <tr>\n",
       "      <th>103027</th>\n",
       "      <td>1</td>\n",
       "      <td>0</td>\n",
       "    </tr>\n",
       "    <tr>\n",
       "      <th>103028</th>\n",
       "      <td>1</td>\n",
       "      <td>0</td>\n",
       "    </tr>\n",
       "    <tr>\n",
       "      <th>103029</th>\n",
       "      <td>0</td>\n",
       "      <td>1</td>\n",
       "    </tr>\n",
       "    <tr>\n",
       "      <th>103030</th>\n",
       "      <td>1</td>\n",
       "      <td>0</td>\n",
       "    </tr>\n",
       "    <tr>\n",
       "      <th>103031</th>\n",
       "      <td>1</td>\n",
       "      <td>0</td>\n",
       "    </tr>\n",
       "  </tbody>\n",
       "</table>\n",
       "<p>103032 rows × 2 columns</p>\n",
       "</div>"
      ],
      "text/plain": [
       "        bad_pred_False  bad_pred_True\n",
       "0                    1              0\n",
       "1                    1              0\n",
       "2                    1              0\n",
       "3                    0              1\n",
       "4                    1              0\n",
       "...                ...            ...\n",
       "103027               1              0\n",
       "103028               1              0\n",
       "103029               0              1\n",
       "103030               1              0\n",
       "103031               1              0\n",
       "\n",
       "[103032 rows x 2 columns]"
      ]
     },
     "execution_count": 69,
     "metadata": {},
     "output_type": "execute_result"
    }
   ],
   "source": [
    "df_bad_pred = pd.get_dummies(df_model_acc[\"bad_pred\"], prefix=\"bad_pred\")\n",
    "df_bad_pred"
   ]
  },
  {
   "cell_type": "code",
   "execution_count": 70,
   "id": "da5e4073",
   "metadata": {},
   "outputs": [
    {
     "data": {
      "text/html": [
       "<div>\n",
       "<style scoped>\n",
       "    .dataframe tbody tr th:only-of-type {\n",
       "        vertical-align: middle;\n",
       "    }\n",
       "\n",
       "    .dataframe tbody tr th {\n",
       "        vertical-align: top;\n",
       "    }\n",
       "\n",
       "    .dataframe thead th {\n",
       "        text-align: right;\n",
       "    }\n",
       "</style>\n",
       "<table border=\"1\" class=\"dataframe\">\n",
       "  <thead>\n",
       "    <tr style=\"text-align: right;\">\n",
       "      <th></th>\n",
       "      <th>accion</th>\n",
       "      <th>accion_modelo</th>\n",
       "      <th>nombre</th>\n",
       "      <th>codigo_irs</th>\n",
       "      <th>bad_pred</th>\n",
       "      <th>bad_pred_False</th>\n",
       "      <th>bad_pred_True</th>\n",
       "    </tr>\n",
       "  </thead>\n",
       "  <tbody>\n",
       "    <tr>\n",
       "      <th>103027</th>\n",
       "      <td>cambiar</td>\n",
       "      <td>cambiar</td>\n",
       "      <td>deflector plastico marco frontal</td>\n",
       "      <td>05050023nndn</td>\n",
       "      <td>False</td>\n",
       "      <td>1</td>\n",
       "      <td>0</td>\n",
       "    </tr>\n",
       "    <tr>\n",
       "      <th>103028</th>\n",
       "      <td>cambiar</td>\n",
       "      <td>cambiar</td>\n",
       "      <td>cubre polvo plastico trasero izquierdo</td>\n",
       "      <td>02090076nitn</td>\n",
       "      <td>False</td>\n",
       "      <td>1</td>\n",
       "      <td>0</td>\n",
       "    </tr>\n",
       "    <tr>\n",
       "      <th>103029</th>\n",
       "      <td>cambiar</td>\n",
       "      <td>reparar</td>\n",
       "      <td>pollera trasero izquierdo</td>\n",
       "      <td>02090227nitn</td>\n",
       "      <td>True</td>\n",
       "      <td>0</td>\n",
       "      <td>1</td>\n",
       "    </tr>\n",
       "    <tr>\n",
       "      <th>103030</th>\n",
       "      <td>cambiar</td>\n",
       "      <td>cambiar</td>\n",
       "      <td>eje de mando</td>\n",
       "      <td>05070010nnni</td>\n",
       "      <td>False</td>\n",
       "      <td>1</td>\n",
       "      <td>0</td>\n",
       "    </tr>\n",
       "    <tr>\n",
       "      <th>103031</th>\n",
       "      <td>reparar</td>\n",
       "      <td>reparar</td>\n",
       "      <td>punta chasis trasero izquierdo</td>\n",
       "      <td>02090150nitn</td>\n",
       "      <td>False</td>\n",
       "      <td>1</td>\n",
       "      <td>0</td>\n",
       "    </tr>\n",
       "  </tbody>\n",
       "</table>\n",
       "</div>"
      ],
      "text/plain": [
       "         accion accion_modelo                                  nombre  \\\n",
       "103027  cambiar       cambiar        deflector plastico marco frontal   \n",
       "103028  cambiar       cambiar  cubre polvo plastico trasero izquierdo   \n",
       "103029  cambiar       reparar               pollera trasero izquierdo   \n",
       "103030  cambiar       cambiar                            eje de mando   \n",
       "103031  reparar       reparar          punta chasis trasero izquierdo   \n",
       "\n",
       "          codigo_irs  bad_pred  bad_pred_False  bad_pred_True  \n",
       "103027  05050023nndn     False               1              0  \n",
       "103028  02090076nitn     False               1              0  \n",
       "103029  02090227nitn      True               0              1  \n",
       "103030  05070010nnni     False               1              0  \n",
       "103031  02090150nitn     False               1              0  "
      ]
     },
     "execution_count": 70,
     "metadata": {},
     "output_type": "execute_result"
    }
   ],
   "source": [
    "df_model_acc_top10 = pd.concat([df_model_acc, df_bad_pred], axis=1)\n",
    "df_model_acc_top10.tail()"
   ]
  },
  {
   "cell_type": "code",
   "execution_count": 71,
   "id": "43aa25d2",
   "metadata": {},
   "outputs": [],
   "source": [
    "df_model_acc_top10 = df_model_acc_top10.groupby(by=[\"codigo_irs\", \"nombre\"],\n",
    "                                                as_index=False).agg({\"bad_pred_False\": \"sum\",\n",
    "                                                                     \"bad_pred_True\": \"sum\",\n",
    "                                                                     \"bad_pred\": \"count\"})\n",
    "df_model_acc_top10 = df_model_acc_top10.rename(columns={\"bad_pred\": \"count\"})\n",
    "df_model_acc_top10 = df_model_acc_top10.sort_values('bad_pred_True', ascending=False)\n",
    "df_model_acc_top10 = df_model_acc_top10.reset_index(drop=True)"
   ]
  },
  {
   "cell_type": "code",
   "execution_count": 72,
   "id": "f82f7254",
   "metadata": {},
   "outputs": [],
   "source": [
    "df_model_acc_top10[\"error\"] = round(df_model_acc_top10[\"bad_pred_True\"] / df_model_acc_top10[\"count\"], 2) * 100"
   ]
  },
  {
   "cell_type": "markdown",
   "id": "158d0106",
   "metadata": {},
   "source": [
    "### Top de 10 repuestos con pero desempeño del modelo"
   ]
  },
  {
   "cell_type": "code",
   "execution_count": 75,
   "id": "2d4ebadf",
   "metadata": {},
   "outputs": [
    {
     "data": {
      "text/html": [
       "<div>\n",
       "<style scoped>\n",
       "    .dataframe tbody tr th:only-of-type {\n",
       "        vertical-align: middle;\n",
       "    }\n",
       "\n",
       "    .dataframe tbody tr th {\n",
       "        vertical-align: top;\n",
       "    }\n",
       "\n",
       "    .dataframe thead th {\n",
       "        text-align: right;\n",
       "    }\n",
       "</style>\n",
       "<table border=\"1\" class=\"dataframe\">\n",
       "  <thead>\n",
       "    <tr style=\"text-align: right;\">\n",
       "      <th></th>\n",
       "      <th>codigo_irs</th>\n",
       "      <th>nombre</th>\n",
       "      <th>bad_pred_False</th>\n",
       "      <th>bad_pred_True</th>\n",
       "      <th>count</th>\n",
       "      <th>error</th>\n",
       "    </tr>\n",
       "  </thead>\n",
       "  <tbody>\n",
       "    <tr>\n",
       "      <th>0</th>\n",
       "      <td>02090112nndn</td>\n",
       "      <td>defensa delantero</td>\n",
       "      <td>1856</td>\n",
       "      <td>1278</td>\n",
       "      <td>3134</td>\n",
       "      <td>41.0</td>\n",
       "    </tr>\n",
       "    <tr>\n",
       "      <th>1</th>\n",
       "      <td>02090066nddn</td>\n",
       "      <td>guardafango derecho</td>\n",
       "      <td>1139</td>\n",
       "      <td>1006</td>\n",
       "      <td>2145</td>\n",
       "      <td>47.0</td>\n",
       "    </tr>\n",
       "    <tr>\n",
       "      <th>2</th>\n",
       "      <td>02090067nidn</td>\n",
       "      <td>guardafango izquierdo</td>\n",
       "      <td>1087</td>\n",
       "      <td>990</td>\n",
       "      <td>2077</td>\n",
       "      <td>48.0</td>\n",
       "    </tr>\n",
       "    <tr>\n",
       "      <th>3</th>\n",
       "      <td>02090200nndn</td>\n",
       "      <td>tapa motor</td>\n",
       "      <td>1155</td>\n",
       "      <td>956</td>\n",
       "      <td>2111</td>\n",
       "      <td>45.0</td>\n",
       "    </tr>\n",
       "    <tr>\n",
       "      <th>4</th>\n",
       "      <td>02090113nntn</td>\n",
       "      <td>defensa trasero</td>\n",
       "      <td>1248</td>\n",
       "      <td>946</td>\n",
       "      <td>2194</td>\n",
       "      <td>43.0</td>\n",
       "    </tr>\n",
       "    <tr>\n",
       "      <th>5</th>\n",
       "      <td>02090143nddn</td>\n",
       "      <td>puerta delantero derecho</td>\n",
       "      <td>764</td>\n",
       "      <td>652</td>\n",
       "      <td>1416</td>\n",
       "      <td>46.0</td>\n",
       "    </tr>\n",
       "    <tr>\n",
       "      <th>6</th>\n",
       "      <td>02090144nidn</td>\n",
       "      <td>puerta delantero izquierdo</td>\n",
       "      <td>731</td>\n",
       "      <td>616</td>\n",
       "      <td>1347</td>\n",
       "      <td>46.0</td>\n",
       "    </tr>\n",
       "    <tr>\n",
       "      <th>7</th>\n",
       "      <td>02090107nndn</td>\n",
       "      <td>marco radiadores</td>\n",
       "      <td>579</td>\n",
       "      <td>549</td>\n",
       "      <td>1128</td>\n",
       "      <td>49.0</td>\n",
       "    </tr>\n",
       "    <tr>\n",
       "      <th>8</th>\n",
       "      <td>02090049ndtn</td>\n",
       "      <td>guardafango trasero derecho</td>\n",
       "      <td>808</td>\n",
       "      <td>536</td>\n",
       "      <td>1344</td>\n",
       "      <td>40.0</td>\n",
       "    </tr>\n",
       "    <tr>\n",
       "      <th>9</th>\n",
       "      <td>02090050nitn</td>\n",
       "      <td>guardafango trasero izquierdo</td>\n",
       "      <td>787</td>\n",
       "      <td>518</td>\n",
       "      <td>1305</td>\n",
       "      <td>40.0</td>\n",
       "    </tr>\n",
       "  </tbody>\n",
       "</table>\n",
       "</div>"
      ],
      "text/plain": [
       "     codigo_irs                         nombre  bad_pred_False  bad_pred_True  \\\n",
       "0  02090112nndn              defensa delantero            1856           1278   \n",
       "1  02090066nddn            guardafango derecho            1139           1006   \n",
       "2  02090067nidn          guardafango izquierdo            1087            990   \n",
       "3  02090200nndn                     tapa motor            1155            956   \n",
       "4  02090113nntn                defensa trasero            1248            946   \n",
       "5  02090143nddn       puerta delantero derecho             764            652   \n",
       "6  02090144nidn     puerta delantero izquierdo             731            616   \n",
       "7  02090107nndn               marco radiadores             579            549   \n",
       "8  02090049ndtn    guardafango trasero derecho             808            536   \n",
       "9  02090050nitn  guardafango trasero izquierdo             787            518   \n",
       "\n",
       "   count  error  \n",
       "0   3134   41.0  \n",
       "1   2145   47.0  \n",
       "2   2077   48.0  \n",
       "3   2111   45.0  \n",
       "4   2194   43.0  \n",
       "5   1416   46.0  \n",
       "6   1347   46.0  \n",
       "7   1128   49.0  \n",
       "8   1344   40.0  \n",
       "9   1305   40.0  "
      ]
     },
     "execution_count": 75,
     "metadata": {},
     "output_type": "execute_result"
    }
   ],
   "source": [
    "df_model_acc_top10.head(10)"
   ]
  },
  {
   "cell_type": "markdown",
   "id": "d2905a54",
   "metadata": {},
   "source": [
    "**Nota:** el término **bad_pred_True** indica que la predicción fue erróneav es decir mala predicción es Verdadera"
   ]
  },
  {
   "cell_type": "code",
   "execution_count": 76,
   "id": "a4b65c2f",
   "metadata": {},
   "outputs": [],
   "source": [
    "df.to_csv(\"data/data_clean.csv\")"
   ]
  }
 ],
 "metadata": {
  "kernelspec": {
   "display_name": "Python 3 (ipykernel)",
   "language": "python",
   "name": "python3"
  },
  "language_info": {
   "codemirror_mode": {
    "name": "ipython",
    "version": 3
   },
   "file_extension": ".py",
   "mimetype": "text/x-python",
   "name": "python",
   "nbconvert_exporter": "python",
   "pygments_lexer": "ipython3",
   "version": "3.10.9"
  }
 },
 "nbformat": 4,
 "nbformat_minor": 5
}
